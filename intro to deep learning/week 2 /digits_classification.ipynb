{
 "cells": [
  {
   "cell_type": "markdown",
   "metadata": {
    "slideshow": {
     "slide_type": "slide"
    }
   },
   "source": [
    "# MNIST digits classification with TensorFlow"
   ]
  },
  {
   "cell_type": "markdown",
   "metadata": {},
   "source": [
    "<img src=\"images/mnist_sample.png\" style=\"width:30%\">"
   ]
  },
  {
   "cell_type": "code",
   "execution_count": 1,
   "metadata": {},
   "outputs": [
    {
     "name": "stdout",
     "output_type": "stream",
     "text": [
      "We're using TF 1.2.1\n"
     ]
    }
   ],
   "source": [
    "import numpy as np\n",
    "from sklearn.metrics import accuracy_score\n",
    "from matplotlib import pyplot as plt\n",
    "%matplotlib inline\n",
    "import tensorflow as tf\n",
    "print(\"We're using TF\", tf.__version__)"
   ]
  },
  {
   "cell_type": "code",
   "execution_count": 2,
   "metadata": {},
   "outputs": [
    {
     "name": "stderr",
     "output_type": "stream",
     "text": [
      "Using TensorFlow backend.\n"
     ]
    }
   ],
   "source": [
    "import sys\n",
    "sys.path.append(\"../..\")\n",
    "import grading\n",
    "\n",
    "import matplotlib_utils\n",
    "from importlib import reload\n",
    "reload(matplotlib_utils)\n",
    "\n",
    "import grading_utils\n",
    "reload(grading_utils)\n",
    "\n",
    "import keras_utils\n",
    "from keras_utils import reset_tf_session"
   ]
  },
  {
   "cell_type": "markdown",
   "metadata": {},
   "source": [
    "# Fill in your Coursera token and email\n",
    "To successfully submit your answers to our grader, please fill in your Coursera submission token and email"
   ]
  },
  {
   "cell_type": "code",
   "execution_count": 3,
   "metadata": {
    "collapsed": true
   },
   "outputs": [],
   "source": [
    "grader = grading.Grader(assignment_key=\"XtD7ho3TEeiHQBLWejjYAA\", \n",
    "                        all_parts=[\"9XaAS\", \"vmogZ\", \"RMv95\", \"i8bgs\", \"rE763\"])"
   ]
  },
  {
   "cell_type": "code",
   "execution_count": 32,
   "metadata": {
    "collapsed": true
   },
   "outputs": [],
   "source": [
    "# token expires every 30 min\n",
    "COURSERA_TOKEN = \"6bYqsOm3kjpr9Sxr\"\n",
    "COURSERA_EMAIL = \"hitzzkushwaha@gmail.com\""
   ]
  },
  {
   "cell_type": "markdown",
   "metadata": {},
   "source": [
    "# Look at the data\n",
    "\n",
    "In this task we have 50000 28x28 images of digits from 0 to 9.\n",
    "We will train a classifier on this data."
   ]
  },
  {
   "cell_type": "code",
   "execution_count": 4,
   "metadata": {
    "collapsed": true
   },
   "outputs": [],
   "source": [
    "import preprocessed_mnist\n",
    "X_train, y_train, X_val, y_val, X_test, y_test = preprocessed_mnist.load_dataset_from_file()"
   ]
  },
  {
   "cell_type": "code",
   "execution_count": 6,
   "metadata": {},
   "outputs": [
    {
     "name": "stdout",
     "output_type": "stream",
     "text": [
      "X_train [shape (50000, 28, 28)] sample patch:\n",
      " [[ 0.          0.29803922  0.96470588  0.98823529  0.43921569]\n",
      " [ 0.          0.33333333  0.98823529  0.90196078  0.09803922]\n",
      " [ 0.          0.33333333  0.98823529  0.8745098   0.        ]\n",
      " [ 0.          0.33333333  0.98823529  0.56862745  0.        ]\n",
      " [ 0.          0.3372549   0.99215686  0.88235294  0.        ]]\n",
      "A closeup of a sample patch:\n"
     ]
    },
    {
     "data": {
      "image/png": "[encoded data removed]",
      "text/plain": [
       "<matplotlib.figure.Figure at 0x7f8cdf3b0e80>"
      ]
     },
     "metadata": {},
     "output_type": "display_data"
    },
    {
     "name": "stdout",
     "output_type": "stream",
     "text": [
      "And the whole sample:\n"
     ]
    },
    {
     "data": {
      "image/png": "[encoded data removed]",
      "text/plain": [
       "<matplotlib.figure.Figure at 0x7f8ce185df60>"
      ]
     },
     "metadata": {},
     "output_type": "display_data"
    },
    {
     "name": "stdout",
     "output_type": "stream",
     "text": [
      "y_train [shape (50000,)] 10 samples:\n",
      " [5 0 4 1 9 2 1 3 1 4]\n",
      "(50000, 28, 28) (50000,) (10000, 28, 28) (10000, 28, 28)\n"
     ]
    }
   ],
   "source": [
    "# X contains rgb values divided by 255\n",
    "print(\"X_train [shape %s] sample patch:\\n\" % (str(X_train.shape)), X_train[1, 15:20, 5:10])\n",
    "print(\"A closeup of a sample patch:\")\n",
    "plt.imshow(X_train[1, 15:20, 5:10], cmap=\"Greys\")\n",
    "plt.show()\n",
    "print(\"And the whole sample:\")\n",
    "plt.imshow(X_train[1], cmap=\"Greys\")\n",
    "plt.show()\n",
    "print(\"y_train [shape %s] 10 samples:\\n\" % (str(y_train.shape)), y_train[:10])\n",
    "print(X_train.shape,y_train.shape,X_val.shape,X_test.shape)"
   ]
  },
  {
   "cell_type": "markdown",
   "metadata": {},
   "source": [
    "# Linear model\n",
    "\n",
    "Your task is to train a linear classifier $\\vec{x} \\rightarrow y$ with SGD using TensorFlow.\n",
    "\n",
    "You will need to calculate a logit (a linear transformation) $z_k$ for each class: \n",
    "$$z_k = \\vec{x} \\cdot \\vec{w_k} + b_k \\quad k = 0..9$$\n",
    "\n",
    "And transform logits $z_k$ to valid probabilities $p_k$ with softmax: \n",
    "$$p_k = \\frac{e^{z_k}}{\\sum_{i=0}^{9}{e^{z_i}}} \\quad k = 0..9$$\n",
    "\n",
    "We will use a cross-entropy loss to train our multi-class classifier:\n",
    "$$\\text{cross-entropy}(y, p) = -\\sum_{k=0}^{9}{\\log(p_k)[y = k]}$$ \n",
    "\n",
    "where \n",
    "$$\n",
    "[x]=\\begin{cases}\n",
    "       1, \\quad \\text{if $x$ is true} \\\\\n",
    "       0, \\quad \\text{otherwise}\n",
    "    \\end{cases}\n",
    "$$\n",
    "\n",
    "Cross-entropy minimization pushes $p_k$ close to 1 when $y = k$, which is what we want.\n",
    "\n",
    "Here's the plan:\n",
    "* Flatten the images (28x28 -> 784) with `X_train.reshape((X_train.shape[0], -1))` to simplify our linear model implementation\n",
    "* Use a matrix placeholder for flattened `X_train`\n",
    "* Convert `y_train` to one-hot encoded vectors that are needed for cross-entropy\n",
    "* Use a shared variable `W` for all weights (a column $\\vec{w_k}$ per class) and `b` for all biases.\n",
    "* Aim for ~0.93 validation accuracy"
   ]
  },
  {
   "cell_type": "code",
   "execution_count": 7,
   "metadata": {},
   "outputs": [
    {
     "name": "stdout",
     "output_type": "stream",
     "text": [
      "(50000, 784)\n",
      "(10000, 784)\n"
     ]
    }
   ],
   "source": [
    "X_train_flat = X_train.reshape((X_train.shape[0], -1))\n",
    "print(X_train_flat.shape)\n",
    "\n",
    "X_val_flat = X_val.reshape((X_val.shape[0], -1))\n",
    "print(X_val_flat.shape)"
   ]
  },
  {
   "cell_type": "code",
   "execution_count": 8,
   "metadata": {},
   "outputs": [
    {
     "name": "stdout",
     "output_type": "stream",
     "text": [
      "(50000, 10)\n",
      "[[ 0.  0.  0.  0.  0.  1.  0.  0.  0.  0.]\n",
      " [ 1.  0.  0.  0.  0.  0.  0.  0.  0.  0.]\n",
      " [ 0.  0.  0.  0.  1.  0.  0.  0.  0.  0.]] [5 0 4]\n"
     ]
    }
   ],
   "source": [
    "import keras\n",
    "\n",
    "y_train_oh = keras.utils.to_categorical(y_train, 10)\n",
    "y_val_oh = keras.utils.to_categorical(y_val, 10)\n",
    "\n",
    "print(y_train_oh.shape)\n",
    "print(y_train_oh[:3], y_train[:3])"
   ]
  },
  {
   "cell_type": "code",
   "execution_count": 39,
   "metadata": {
    "collapsed": true
   },
   "outputs": [],
   "source": [
    "# run this again if you remake your graph\n",
    "s = reset_tf_session()"
   ]
  },
  {
   "cell_type": "code",
   "execution_count": 27,
   "metadata": {},
   "outputs": [],
   "source": [
    "# Model parameters: W and b\n",
    "W = tf.get_variable(\"weights\",shape=(784,10)) #with shape[0] = 784\n",
    "b = tf.get_variable(\"bias\",shape=(1,10))"
   ]
  },
  {
   "cell_type": "code",
   "execution_count": 40,
   "metadata": {},
   "outputs": [],
   "source": [
    "# Placeholders for the input data\n",
    "input_X = tf.placeholder(name=\"x\",shape=(None,784),dtype=tf.float32) #for flat X with shape[0] = None for any batch size\n",
    "input_y = tf.placeholder(name=\"y\",shape=(None,10),dtype=tf.float32) #for one-hot encoded true labels"
   ]
  },
  {
   "cell_type": "code",
   "execution_count": 29,
   "metadata": {
    "collapsed": true
   },
   "outputs": [],
   "source": [
    "# Compute predictions\n",
    "logits = input_X@W + b ### YOUR CODE HERE ### logits for input_X, resulting shape should be [input_X.shape[0], 10]\n",
    "probas = tf.nn.softmax(logits=logits)### YOUR CODE HERE ### apply tf.nn.softmax to logits\n",
    "classes = tf.argmax(probas,axis=1)### YOUR CODE HERE ### apply tf.argmax to find a class index with highest probability\n",
    "\n",
    "# Loss should be a scalar number: average loss over all the objects with tf.reduce_mean().\n",
    "# Use tf.nn.softmax_cross_entropy_with_logits on top of one-hot encoded input_y and logits.\n",
    "# It is identical to calculating cross-entropy on top of probas, but is more numerically friendly (read the docs).\n",
    "loss = tf.reduce_mean(tf.nn.softmax_cross_entropy_with_logits(logits=logits,labels=input_y))### YOUR CODE HERE ### cross-entropy loss\n",
    "\n",
    "# Use a default tf.train.AdamOptimizer to get an SGD step\n",
    "step = tf.train.AdamOptimizer().minimize(loss)### YOUR CODE HERE ### optimizer step that minimizes the loss"
   ]
  },
  {
   "cell_type": "code",
   "execution_count": 42,
   "metadata": {
    "scrolled": false
   },
   "outputs": [
    {
     "data": {
      "text/html": [
       "<img src=\"data:image/jpeg;base64,/9j/4AAQSkZJRgABAQAAAQABAAD/2wBDAAIBAQEBAQIBAQECAgICAgQDAgICAgUEBAMEBgUGBgYFBgYGBwkIBgcJBwYGCAsICQoKCgoKBggLDAsKDAkKCgr/2wBDAQICAgICAgUDAwUKBwYHCgoKCgoKCgoKCgoKCgoKCgoKCgoKCgoKCgoKCgoKCgoKCgoKCgoKCgoKCgoKCgoKCgr/wAARCAEgA2ADASIAAhEBAxEB/8QAHwAAAQUBAQEBAQEAAAAAAAAAAAECAwQFBgcICQoL/8QAtRAAAgEDAwIEAwUFBAQAAAF9AQIDAAQRBRIhMUEGE1FhByJxFDKBkaEII0KxwRVS0fAkM2JyggkKFhcYGRolJicoKSo0NTY3ODk6Q0RFRkdISUpTVFVWV1hZWmNkZWZnaGlqc3R1dnd4eXqDhIWGh4iJipKTlJWWl5iZmqKjpKWmp6ipqrKztLW2t7i5usLDxMXGx8jJytLT1NXW19jZ2uHi4%2BTl5ufo6erx8vP09fb3%2BPn6/8QAHwEAAwEBAQEBAQEBAQAAAAAAAAECAwQFBgcICQoL/8QAtREAAgECBAQDBAcFBAQAAQJ3AAECAxEEBSExBhJBUQdhcRMiMoEIFEKRobHBCSMzUvAVYnLRChYkNOEl8RcYGRomJygpKjU2Nzg5OkNERUZHSElKU1RVVldYWVpjZGVmZ2hpanN0dXZ3eHl6goOEhYaHiImKkpOUlZaXmJmaoqOkpaanqKmqsrO0tba3uLm6wsPExcbHyMnK0tPU1dbX2Nna4uPk5ebn6Onq8vP09fb3%2BPn6/9oADAMBAAIRAxEAPwD9/KKKKACiiigAooooAKKKKACiiigAooooAKKKKACiiigAooooAKKKKACiiigAooooAKKKKACiiigAooooAKKKKACiiigAooooAKKKKACiiigAooooAKKKKACiiigAooooAKKKKACiiigAooooAKKKKACiiigAooooAKKKKACiiigAooooAKKKKACiiigAooooAKKKKACiiigAooooAKKKKACiiigAooooAKKKKACiiigAooooAKKKKACiiigAooooAKKKKACiiigAooooAKKKKACiiigAooooAKKKKACiiigAooooAKKKKACiiigAorN8Z%2BMfCvw78H6t8QPHOv2ulaJoWmz6hrGqXsoSGztYY2klmkY8KiIrMT2ANc18F/2i/hJ8f/D2p%2BJfhtrt80Oi332PWrTXvD99o97p83kR3AWe01CGG4h3QzRSqXjAeORXUlSDQB29FcL8D/2j/hT%2B0Zpt1rnwkvdbvdOtlhki1TUfCGp6baX8MoYxT2U95bxR38DhCyzWzSxlSpDYdSe6oAKKKKACiiigAooooAKKKKACiiigAooooAK89%2BO37UnwU/Zvk0ax%2BKXiDUxqPiKWdNA0Hw54X1HXNU1HyVV53hsdNt57mSOJWQySLGUj3puK7lz6FXg37Q/wP%2BPn/DSfg79rb9myy8H61rnh/wAHax4U1fwp451y60u0vLC/ubC7FxBe2tpePbzxTaegKm3dZUlIJQorUAGl/wDBTL9izWLvxPb2nxXv0h8FWsk/jLUrvwXrEFjoIS0iu9l5dy2iwWsrQzRskMjrJIWKorMrKL2n/wDBQ/8AZK1HwBrXxFTx/q9vB4f1ay0vVdE1DwNrNrrkV5ebfscC6PNaLqEr3AYGER27eaAxTcFYjy2b9gH4y%2BMf2a/jn8NfGHinwppHin4o/FS38daHc6U1xeWFpeW0OiywQ3IkihkkiN3pRRwoyYHGDuJVaPi79i/9pX4uav8AEf45fG34S/CjWvFnjWx8KaPp/gKy%2BI2s2Wm6fY6Hcaldw3qa7b6al5DqDXOqTOksVoPJSKNFZiWcgHsviH9vv9mzwv4a8OeI9XvvG3meK0v5NE8P2vwm8SXGuSRWUscV3NJpMWntf28MLzQq8s0CIpmiy37xM%2Bmaz8RPBHhv4e3XxX8T%2BJbbSvDljo76rf6vqrfZYbSySIzPPMZdvlKsYLNvxtAOcYNfGHin9hH9s/WPgX4X8Nay3hfxV470a58RHRfGV/8AHbxNpGr%2BCLW%2BuUktLO11q1sJLzXIYkjhEy3qw/aTbReYCFGPUfjR/wAE6LX49fs2%2BJ/hx8Q/jn41u/HfjD4Xx%2BGde8Ut421oaPNfLaQxNqCaEt8thbs80Cyt5EUUhDyASK0jOQDpIP8AgpR%2Bxl/wrnxX8VtY%2BK17omjeCLKyvvFD%2BJ/B2r6Tc2VleTGG1vfst5axXElpLIrqlzHG0LeW5D4RiOP%2BN3/BWT9nf4Z/BDVPjH4D0XxV4qm0H4g%2BF/C%2Bu%2BGP%2BEF12x1OwOs6la2sd09nJpzXXleRcPPA3k%2BXePGlvDIZJ4wfK9U/4JifGTx38KvH2keIvA3hvRvGPiPQ9H0ew8Q6r%2B0X4z8brd2lrrFvqE0cn9uwH7BGfJYpFEsx3vhpMZJ7/wDah/YM%2BNPxg%2BIPxf8AiD4F8Q%2BF45PF8HwtvPCVnq19cxK9/wCE/EdzrUsN40dvJ5ENwGt4VljEzrl2MfyKrgHqFh/wUE/Zb1H4m2XwZh8T%2BJo/Fd5oun6xLoF38N9egudO0%2B9adILu/SSyU6dDut5VeS68pYiFEhQum6j4a/4KYfsU%2BLfBniz4haR8YLhNH8F%2BCLrxlrF7qHhLVbQXHh63Rnm1axWe1RtUs1VDiezE8bFkCsS6BsHQ/wBkP4ofEP4mfG74g/G9fD2gxfGj4O%2BHfCF1Y%2BE9duNRl0u4tE11Ltlnns7XzYwNViMT7FZikm6OPA3fN37Y37Kn7UOj/sMfFL4m/tMXfgC0h%2BEP7FPxB8EeF4/AWoXlw2vNe6RbGfUbpbm2gFioTSLcJZxtcBWmkJnbagoA%2Bs/D3/BSX9jLxNoeseI9P%2BLV1BZ6GmlTX8mqeEtVsma01K7WzsdQhS4tUa5sJZ2Ci%2BhD2qgM7Sqisw9P0T4u/DzxH8Utf%2BC%2Bh%2BIftPiTwtpen6hr9hHaTbbOC%2Ba4FrumKeUXf7LMfLVzIqhGZVWSMt8k6h%2BzP4g8V6B4p%2BNv/BSLxf8ADPwn4Ft/2e7n4dSXHh/xBMtrLpt7JDJeareTXsFulg5MFsIbZDMICZP9IkLLjsP%2BCPngP4u2f7I9r8f/ANpDUDf/ABJ%2BL15H4n8V6g9nJbtJCLSCy01fKl%2BeH/iX2lpI0TYKSzTZAYtkA%2BqqKKKACiiigAooooAKKKKACiiigAooooAKKKKACiiigAooooAKKKKACiiigAooooAKKKKACiiigAooooAKKKKACiiigAooooAK8R0j/gox%2Bx7qV3r1nqfxSvPDzeHPDlz4g1CTxr4R1XQY5tJt3SOe/tZNStYFvrdHkiVpbYyoDLGM5dc%2B03sVzNZyw2d0IJniZYpjHv8ALYjhtp64POO9fmJq/wDwRy/bl%2BL%2BreF9c%2BN3xx0N9b8NeD9Qs9Q8Uah8VvE3iceIdb%2B2aVfWuonS76KGy0m2kudMXz7CyAURybVlkCoFAPtl/wBv/wDZhtfho3xY1jxB4q0rS21yDRrGz1z4Za/Yapqd/MhkhgstNuLFL2/aRAzr9nhkDKjsCQjEdF4D/as%2BB/xH1%2By8J%2BHPEOqQ6vf%2BFJ/EkOka14V1LTLtNNhu/sksssN5bxSQOs/yGGRVl77NvNeTfE74Oftu/GJvh78bdc8G/CrQ/iH8KPHU2seH/DNr441K/wBF1yzuNJu9MuY7i%2BfSoZrGYpeySRulrcCMxBT5gkbFX4k/Ab9uDX/jL4d/aa8D6N8K7TxZffDDVfBfjHQtS8V6lJYaQtxfw3Vrf2VwmnCTUDEI3WS3litBKXGJYscgHcaT/wAFG/2QPEeveBfC3hX4jarrOp/EnwbpXi3wbp2ieB9ZvZ7zQ9RfZa6jIkFozWtvux5kk4jW3DKZvKDAnY%2BGv7bn7N3xX%2BI1z8J/DPi/VrPX7fS7nU4bLxP4M1bRFv7G3kSOe7spdRtYI7%2BCN5Yg8ts0iL5iEkBlJ8o/YU/YS%2BLH7MOv/DjWfHniDw1dnwd%2Byl4R%2BGN%2B%2BkXM8rNq2lvM1zNF5kEe61bemxmKu235o0wK8a%2BGn/BKv9sbxP8AFHwv4m/am%2BMNnqkWn%2BAPFfhfxp4mg%2BL/AIk1q88RS6vYpbf2na6ZfQx6foRypY2lopRcqBM4jVaAPqXwn/wUX/ZH8a6LH4q0Hx3rn9h3Gq6Xp%2Bn%2BJb34f63a6VqMupXsdlZSWl9PZpbXkEtzNFGLiCR4QZULOFYE%2Bl%2BFvi78PPGvxA8U/C7wv4h%2B1654Lks4/E9olpMFsZLqD7RBGZWQRu7QlZCiMzIskZYKJE3fMPjjwJ8RfCv/AAT28afAj/goZ4n%2BFXgjwFoPw0i0C2%2BJnh3xbdhmnSNLa11J7S6s4E02ZZhbyQwR3F0xnKIjk7Q3a/8ABK/4ffFjw3%2ByJpXxV/aKsEt/id8WL6Xx18RIVt2i%2Bz39%2BsZhtNjfMn2WxjsrPackC1waAPo2iiigAooooAKKKKACiiigAooooAKKKKACiiigAooooAKKKKACiiigAooooAKKKKACiiigAooooAKKKKACiiigAooooAKKKKAPMP21PhD4q%2BPn7JnxD%2BDvgV7Ua34g8KXlro8d9KUt5roxkxRSsASsTuFR2wcKzHBxg%2BReHPhD8cvjUPjxq/jf4Oa98O5PjT4YHh/R7bU9V0u6m0RLbSHtlvbw2N5Mm%2BWe7mEawNMRHaI0hiLhB9WUUAfL3/BO/wCFf7R/wx1DV9P%2BJ/hrxr4e8Lw%2BC/D9ha6J488dQa9PN4gtxdrqd/ZPDdXItbCWNrFY4N0KgwuVtbYZ8zT%2BKb/taaD%2B2H4e%2BGnwa/adsIdM8Z%2BCvEmvXWl/ELwDbavZaSdOvNDt4obEadNplyocapKXa5uLn/VoFC8k/R1eFfEbXI7H/gpX8INElA/074KfEMxtnnfHq3g04/75LH8KTaW5cISqO0V0b%2B5Xf4F//hB/%2BChf/R0HwZ/8MPq3/wA1FH/CD/8ABQv/AKOg%2BDP/AIYfVv8A5qK9mopkHjP/AAg//BQv/o6D4M/%2BGH1b/wCaij/hB/8AgoX/ANHQfBn/AMMPq3/zUV7NRQB4z/wg/wDwUL/6Og%2BDP/hh9W/%2Baij/AIQf/goX/wBHQfBn/wAMPq3/AM1FezUUAeM/8IP/AMFC/wDo6D4M/wDhh9W/%2Baij/hB/%2BChf/R0HwZ/8MPq3/wA1FezUUAeM/wDCD/8ABQv/AKOg%2BDP/AIYfVv8A5qKP%2BEH/AOChf/R0HwZ/8MPq3/zUV7NRQB4z/wAIP/wUL/6Og%2BDP/hh9W/8Amoo/4Qf/AIKF/wDR0HwZ/wDDD6t/81FezUUAeM/8IP8A8FC/%2BjoPgz/4YfVv/moo/wCEH/4KF/8AR0HwZ/8ADD6t/wDNRXs1FAHjP/CD/wDBQv8A6Og%2BDP8A4YfVv/moo/4Qf/goX/0dB8Gf/DD6t/8ANRVrX/jf%2ByJ8KbTSNJ%2BOnxh%2BHPhzXNQ0WDUDbeLvENhaXdxHJkeftuHV2RnSQBumUYZ4IGb/AMNf/wDBOD/o6L4I/wDhbaP/APHa5p4zB05OM6sU10cop/c5JntYfhviTF0I1qGBrzhJXUo0a0otd1KNGUWtHqm1puWP%2BEH/AOChf/R0HwZ/8MPq3/zUUf8ACD/8FC/%2BjoPgz/4YfVv/AJqKr/8ADX//AATg/wCjovgj/wCFto//AMdr07QNF%2BFnivQrLxT4W0nw/qWmalaR3Wnajp8EE0F1BIoeOWORAVdGUhlZSQQQQcGrpYnD121TnGVu0k/ybOfHZNnOVwjPG4WrSUnZOpTqU03vZOdOCbtrZNu2trannP8Awg//AAUL/wCjoPgz/wCGH1b/AOaij/hB/wDgoX/0dB8Gf/DD6t/81FeefD7/AIKNfsX%2BL/A9n4w8Q/D3xPoM%2BqeONa8LaJo1z8HtbnvNWvdOuL%2BORbSKHT2e6Jh0%2BedliVzCAY5Nkiso7L4hftUfsteBbLx7aXmiRafrHgLwhrXiG8tvFngTVtJs7uz0xf8AS57e6k05xe28TNEJJbJLoqJo2CPvRX2PNNH/AIQf/goX/wBHQfBn/wAMPq3/AM1FH/CD/wDBQv8A6Og%2BDP8A4YfVv/moqrYftWfsYah8Z5P2foby3/4Si38QR6DdR/8ACDX4sIdVfTo9SjsW1BrQWizvaSpMkZlDODhQWBUbPxr%2BKvwV%2BEn7POu/tD6P4R0bxRp2l2DSabb6GttINVumlEEFrFMAUDSXDJDuJ2qzEt0NAFD/AIQf/goX/wBHQfBn/wAMPq3/AM1FH/CD/wDBQv8A6Og%2BDP8A4YfVv/mop37OfxEs/ivc%2BM/BfxW%2BBvhrwn4u8A6/FpviHTNJ1JdVsHSaxt76C5t7uS0tXkjaK5CnfBGyywyrhlVXfxPQf%2BCifh6X4f2/xC8Y/skaVp0HjTwHY%2BLfg3Z2WuRXM3ieyvdRstOtILwPZxDTLlp9V0negNyiLe58xmidKAPav%2BEH/wCChf8A0dB8Gf8Aww%2Brf/NRR/wg/wDwUL/6Og%2BDP/hh9W/%2BaivNPGX7bGgfDT4DfEHxd48/Zi0IfEnwB4pl8Mv8PNE1pLq21fVf7Kg1iEW1/JZxObY6dcpdSzNbBoY4bn905hw3Tz/H%2B7h%2BJXwN0IfsyeGT4V%2BM1mUbxC2vqLvSNQ/sW%2B1cW4s/sRW5i8qxKGYzxENKuI2ANAHSf8IP/wAFC/8Ao6D4M/8Ahh9W/wDmoo/4Qf8A4KF/9HQfBn/ww%2Brf/NRXAeOf2yPAfwh/aQ1b4IfFT4VfDv7BpnhfWPEVxceEPF66rrWk6XYWwuftmq6W1hD/AGfDNHlY5BPMGlaNBnfuXDtP23tU03TLjwt8QP2NfDukfELUbbwndeC/Cdv4qS5tdTg8QXdxa2v2q9/s9DZyW72d092iQ3AjjjBie4LqtAHrf/CD/wDBQv8A6Og%2BDP8A4YfVv/moo/4Qf/goX/0dB8Gf/DD6t/8ANRXkfxP/AG5rL4Zfs3XXx/174CfCrSJvDXiPWfD3jbQfF3xKXTGXVrCV0Sx0ib%2BypBq012kTyW8bLau6vECqszrHq61%2B214N0X4vzeF779nTQrDwjpnj3wz4J1zWda1iK11mDXNds7G5sYodK%2BysJ4AdStIpJTcoyuLnbG627EgHo/8Awg//AAUL/wCjoPgz/wCGH1b/AOaij/hB/wDgoX/0dB8Gf/DD6t/81FeQ/Av9vPS/2g/jP4p%2BCPw//Zo8D3WtaPpOv3VnpUHjaN9R0y403UY7GK18QWv9ng6G94ZDNb4a6LxQzMAdmDfk/bG1e0nuPhhqH7KHgpfiVH8XLb4fwaVB4z3%2BHnvptAOvLM%2BrHTFmjUWashQ2XmfaDFGFKypIQD0//hB/%2BChf/R0HwZ/8MPq3/wA1FH/CD/8ABQv/AKOg%2BDP/AIYfVv8A5qK8i%2BIX7a/iK0/Y9g/bD%2BCf7KPw68VaZC95pmq6JqXxAewuZNeg1Z9GGmWDwaPdRXol1CMwRTM0AcvG20BuOws/2p/AfiL9r69/ZS8KeAvhaLnw/e29h4mGv%2BPILHWJbyTT4NQkTStLFlI%2BpRQ211atJM0luoMjKu4xuAAdb/wg/wDwUL/6Og%2BDP/hh9W/%2Baij/AIQf/goX/wBHQfBn/wAMPq3/AM1FedfBX9rTVvjhqunaZ4e/ZQ8I2K%2BPvAupeL/g1dal4rIi8QaXZXlnbu2oeXprNpcjpqNhOiRi8zHO2SrRstY3hf8AbP8AHfiGyXw7N%2Bxz8PYvFeqfGrUfh34Vii%2BIUj6HqU%2BnaVNfX12%2BoPoyTQrHLZ31mIltJXee1bom51APXv8AhB/%2BChf/AEdB8Gf/AAw%2Brf8AzUVQ8D%2BOP2rPB37Vnhz4I/G74j/D3xNo3ib4e%2BIdchm8K/Dy%2B0W6tLrTb7RLdFZ7jV75JY3TVJSVCIwaJCGxkHU%2BB/xQ%2BGX7Rv7MGnftDeAvCVhpy6ro1zPGtqIpGsry3aSGaNJ4wBKI54ZFEi4DhQw4bFReOP8AlIX8L/8AsjPjz/07eEKAPZqKKKACiivlD/gttH%2Bz7/w7Q%2BKV3%2B0Jc%2BFIoLXwrqM3hJ/FlzbxxjXRY3H2P7N55Aa7BLmILl9wyoyMgA%2Br6K%2BU/wBub4vfs9/F34M%2BB9cm%2BJ/hDxR8JT8S9Bn%2BKd5a61a3uknQZkuGtpL50dovsL3osC7SHyWjDF8x76%2BQvGDfBH/hUQ/4X4bL/hW3/CCfFP8A4Zt%2B3f6r7b/wksn9j/2P3%2B3fYPsf9leR%2B/8As277L8u%2BgD9aa%2BcfhN4q/bv%2BOuj69478L/G/4SaBpdv8QvFWh6XpV/8AB/VL%2B4itdL16/wBMhaW4TxFAssjx2auzLFGu5yAoAFev6Jd/GKx%2BB2l3f9g6XqnjmPw7am70/WNWewtJ9Q8pPOWS4ht7gxLv3/MkMnstedf8E6bjxLd/s3X114y0mxsNXk%2BLfxDbU7HTNRe7trec%2BM9a8yOKd4YWmQNkB2ijLAAlFzgAF7/hB/8AgoX/ANHQfBn/AMMPq3/zUUf8IP8A8FC/%2BjoPgz/4YfVv/mor2aigDxn/AIQf/goX/wBHQfBn/wAMPq3/AM1FH/CD/wDBQv8A6Og%2BDP8A4YfVv/mor2aigDxn/hB/%2BChf/R0HwZ/8MPq3/wA1FH/CD/8ABQv/AKOg%2BDP/AIYfVv8A5qK9mooA8Z/4Qf8A4KF/9HQfBn/ww%2Brf/NRR/wAIP/wUL/6Og%2BDP/hh9W/8Amor2aigDxn/hB/8AgoX/ANHQfBn/AMMPq3/zUUf8IP8A8FC/%2BjoPgz/4YfVv/mor2aigDxn/AIQf/goX/wBHQfBn/wAMPq3/AM1FH/CD/wDBQv8A6Og%2BDP8A4YfVv/mor2aigDxn/hB/%2BChf/R0HwZ/8MPq3/wA1FH/CD/8ABQv/AKOg%2BDP/AIYfVv8A5qK9mooA8Z/4Qf8A4KF/9HQfBn/ww%2Brf/NRR/wAIP/wUL/6Og%2BDP/hh9W/8Amor2aigDxn/hB/8AgoX/ANHQfBn/AMMPq3/zUUf8IP8A8FC/%2BjoPgz/4YfVv/mor2aigDxn/AIQf/goX/wBHQfBn/wAMPq3/AM1FH/CD/wDBQv8A6Og%2BDP8A4YfVv/mor2aigDxn/hB/%2BChf/R0HwZ/8MPq3/wA1FH/CD/8ABQv/AKOg%2BDP/AIYfVv8A5qK9mooA8Z/4Qf8A4KF/9HQfBn/ww%2Brf/NRR/wAIP/wUL/6Og%2BDP/hh9W/8Amor2aigDxn/hB/8AgoX/ANHQfBn/AMMPq3/zUUf8IP8A8FC/%2BjoPgz/4YfVv/mor2aigDxn/AIQf/goX/wBHQfBn/wAMPq3/AM1FH/CD/wDBQv8A6Og%2BDP8A4YfVv/mor2akdlRS7sAoGSSeAKAPGv8AhB/%2BChf/AEdB8Gf/AAw%2Brf8AzUUf8IP/AMFC/wDo6D4M/wDhh9W/%2BaitPx9%2B3F%2Bxt8LbqXT/AIgftTeANLu4f9bY3Hiu1%2B0L9Ylcv/47Xl%2Bvf8Fpf%2BCZXh6c2t1%2B1HZXEoOAmm%2BH9Tutx9A0Nsyn864K2a5Zh3arXhH1nH/M%2Bsy/gLjnNoKeCyrE1U9nHD1mn5p%2BzSa802vM73/hB/8AgoX/ANHQfBn/AMMPq3/zUUf8IP8A8FC/%2BjoPgz/4YfVv/morzH/h9R%2BxHd8%2BHJ/HmsKfuvpnw61Jg303RLR/w%2BB%2BDl9x4U/Zd%2BP2vN2TR/hVcOT9N7rWH9u5P0rxfpd/lFnqf8Qq8SF8eVVo/wCNQh/6cqwt87Hp3/CD/wDBQv8A6Og%2BDP8A4YfVv/moo/4Qf/goX/0dB8Gf/DD6t/8ANRXmP/D0vxZe/Nov/BMr9puRD9w3vw6S3J%2Boa4OKP%2BHoHxCsj5mt/wDBMP8AaPji6g2HgmK5bH%2B6s4/Kj%2B3Mr/nf/gFT/wCVh/xC3jrrhY37fWMJf7vrh6d/wg//AAUL/wCjoPgz/wCGH1b/AOaij/hB/wDgoX/0dB8Gf/DD6t/81FeY/wDD2vw7Fxf/ALAf7UNqw%2B8lx8IXBX64uDTW/wCCm/xY8ct9i/Z//wCCZ/xw1666eZ4t0eHw7abvT7RcO4%2BpxxR/bmV9Kl32UZt/d7MF4WceLWphFCPWU62FjBesni2l%2BJ6h/wAIP/wUL/6Og%2BDP/hh9W/8Amoq3%2Byt8RvjT4w1j4oeBPjpr/hfVtU8A/EKLQ7PVfCfhq50m3urWXQdH1NWe3uL28ZZFk1GVCwl2lY0O1TnPky/Hf/gsDqqi4sv2Dfh3pSycrb6n8UFnkiH91mhTaxHqOK6H/gnZq3xm1zXPjzqn7QXhLR9C8Xy/GaD%2B19K0C/a6tIMeEfDYi2SsAWzCI2PozMO1dGGx9PFTcYwmtL3lCUV976%2BR4%2Bd8J43IcKq9bE4apeXLy0cTSrTTs3dxp3tHSzldq9l1R9J0UUV3Hy4UUUUAFFFFABRRRQAUUUUAFFFFABRRRQAUUUUAFFFFABRRRQAUUUUAFfLH7Rmuf2T/AMFbf2X7Dfj%2B1Pht8TbbGeuD4amx/wCQf0r6nr4o/bi1g6F/wWH/AGJ7xnxHPpXxKtHHr5tjpCqP%2B%2Btv5VyY2fs8PzecfxnFfqfQcMYX65m3se9Ov/5Lh68l/wCkn2vRRRXWfPhRRRQAUUUUAFFFFABRRRQAUUUUAFFFFAHmepfsyfs2/GjR9B8U/GL9nvwP4s1O38P2trBqPiXwnZ388cCqXWJZJ42YIGd2Cg4BdjjJNUv%2BGB/2Ff8Aoyz4S/8AhudM/wDjFcn8Xv8AgpB%2Bxf8AsfS%2BHPhp%2B0X8Zf8AhHdbvvClnqdrZf8ACO6jd77V98Syb7W3kQZeGUbSwb5c4wQTyH/D83/gll/0dF/5ZOuf/IVeLiMXw7TryjXnSU09eb2d7%2Bd1e/qaLxDxGVL6pHOJ0lT05FiakFHrZRVeKjvsorfbU9b/AOGB/wBhX/oyz4S/%2BG50z/4xXp2gaBoXhTQrLwt4W0W003TNNtI7XTtO0%2B2WGC1gjUJHFHGgCoiqAqqoAAAAGBXyt/w/N/4JZf8AR0X/AJZOuf8AyFX094B8deFfih4E0X4l%2BBdU%2B3aJ4i0i21PR73yHi%2B0WtxEssUmyRVdNyOp2soYZwQDxXRgcRk9aclg5U20teTlvbz5UtL9xS4uq8Sfup5jLE8mtnXnV5b6XtKrUtfa6SvtfoeE/DD9hfxX4A8eeFNa1P4z6bqGg%2BB/ih4q8X%2BGtLh8ISQXYXXf7Wee0uLk3rpKYpdVYpKkMX7uEIyFmMg8j1r/gjDLr3inx74kvPjt4diuPGXgLx/4X/tq1%2BF6JrdzH4mkVxcarqJvi%2BqPZbRHCgW3Tyxt2pgMPdrD9vz4R6vp1jNpPhTxHNfXWi%2BLdSu9Jl%2BwW8ulp4cvVsNRju5J7tIIGF26QIzS%2BWxJYusau68J4N/4KfeB/jtN8ONR%2BAkFnLY678Z9R8DeN4L%2B%2BsdSl082/g3V/EKG2udKvrizldjaWB3pPMgSaaNgkqnyvSIOuk/YYD%2BIdV18fFDB1P466T8RzENE/1f2LSNP037Bnz/m3/YPM87A2%2Bbt8ttu5u8%2BNfwO1D9oD9nnXfgl4/wDGMVvf61YNGniDQ9LMAsrpJRNa3UUEssuWhlSF9rOyu0ZzgNgfPHi3/gqtK/wQ8KeNfhF8Kdf8R3uqQfD2TxH4pl8PwW%2BjaK3iS705UguYBqTXMdw1re%2BaqQG6igaaDzZmUkt9IfGH48eH/hJ8AvHnx9utG1K5sfAXh/WNUvrK40%2Ba0luBp0MssqxidFLK3ksElUNG4IZGZSCQDnPgR%2Bz38TPhdqniPxv46%2BK%2Bg%2BI/E/jrxZFqvja/tPB0tjZy2kOmRWFvZWNs19M1oF%2BzwStJLLc7ma4G1RKnk%2BQaD/wSz1aL4f2/w98YftEDUYPBfgOx8JfBu8svCX2abwxZWWo2Wo2k94Xu5Rqdys%2BlaTvcC2R1sseWrSs9ej/stfGz4/eIfip4m%2BA37So8I3PiLRvBXh3xXa6l4L0q5srQWuqyalAbJo7m5uHeW3n0ubM4dFlSaMiKMhlrySf/AIKD/tE6JpN78Wr7wf4K1Lwt4l0v4gP8OtAj83Tr62u/DhuTbLqGoXFy1u8V7FZzyO4htxaEohacbpAAdR4k/wCCXPgv4ueDvF1/%2B0B8TNV1X4ieMNS1XULnxp4J1PWPC9tZT3ulWOkhIrKy1PdJbpaaZYqYLi4mEjRysSPOYVpa1%2BxD8aNJm%2BAmlfCL9onQNN0P4HvHOtt4u8Fajr1/rVwdKvNLmZrx9aiaJGt72UorLM0ciod7oPKPIfAH9tD9o743fDL4jaknivQbLUPBM2kXFvrcv7P3ieO6ntrq08%2BWE%2BFZL8aq7KcLFdJJ5c4LmONvJfOP41/4KafGe1/Y%2B8F/E/wD4H8M3nj/AFsf2l4it7y3uBp%2Bl6FBrA06S%2BlthMJrae5Zo44rKWXzoJZJ1k8w2NwhAPX/AIofscePf2hviZDq37Qnxh0PVPBulQ69BoXhrw14Kl02/NvqljPp8kF7fyX9wLqNLa5k%2BWKC3DypDKwJiVa5C0/4Jz/EzUtMuPFPxB/absdX%2BIWnW3hO18F%2BLLfwIba10yDw9d3F1a/arL7c5vJLh7y6S7dJrcSRyARJblFatjw/%2B1P8XR%2B3f4j%2BBHxK8T6J4V8I23iaDSvAthqfwn1tZvFqv4etdQdrbxC12um%2Bet1LeL9lWB5THYyDGcyLs/A74uftM%2BO9a%2BOfw08c%2BI/A0Wv/AA/8Vwaf4V1jRvB1%2B1qlvc6NY6jEbq0N%2B0t5JGbtkbypYPNCDasZNAGTdfsYfHqy%2BBWsfBnwp%2B0Z4Rjl8dXfiC8%2BJ2sa38Lpb7%2B1LjVpWaRrGAapGlikMbtDHHP9sGxIvM8wq5kPGf8AwTy0Lx98WPAfijxPq3g%2B68P%2BADocumz3Hw9SXxbdyaTJHcWcc2vvdEm2F3DBcvElsjO8eDJtZgfONZ/bq/axu/2GPjR%2B0J4In8DjxF8Hde1EfbPE3w31nSotc06z0e3v3EmiXV/Hf6TcNLcGBRczNujiW6WNo7iJa9E/aj/an%2BLvwX/aa8O%2BBz4m0Twh8OLjw5Dfa34z8QfCfW9ctBevqAtxZyajZXcFppAMWCJrvcm5geQNpAMjwX/wT2%2BM/wAPL5NT8I/tU6VbXnhXwp4p0f4Wao/w48y80qXW7uK6kvNVka/K6w8MkEZVVS0WRgXlEjkMun4J/YZ%2BJnhb9kyf9mTxB43%2BEPip5dWF5cX/AIs%2BC13qVhqru5mubnUrO51yR769muC07XP2iMBz/qyAK1fH/wAW/wBqLwb%2B254B%2BC%2Bm%2BPPh/qfhLxZBreta3o48BX0Wq6PoOn20aGf7f/azwyStf3mnxAG0QNHLMQMx8%2BM/CT/gqb40%2BKX7PF98etG8T%2BD7nU/FOjaDefDv4f3HgPWdMm08a3qlrpthNc6jdXHk61bxTX1utzLYRRxxyK8Yc7kYgHtPhX9gbw34R%2BFfwm%2BDOmeN/wDin/h34/k8Y6/Zrosca%2BJNTaS%2BvQdkbrHZxrq14uoLGiuFa1ijXCjNUfGX7AMniT4/6r8TdH%2BJemab4Z8TfEnQPHvirQ/%2BES83VbrW9HtbO2tTb6n9pUW1q0en2gkhNtIzD7QFkQXDgecePf8Agoj8afhjfTfs%2BeMb7wsPiPa/FqfwjN4p0b4dazqmnXFpH4ctPEH2230Kyupb%2BeYwX1vbG2S5O1lmuDJ5cew%2Bj6h%2B0r8ZE8efs16v4O%2BIfw88U%2BAfi9qb6Lr%2BpaX4avYri9uh4Y1rWVv7CRr5ktLcvpcafZ5o7iQLM4MoZMkAn/Zv/YZ8TfATxlomt6l8abTXdK%2BH/gjU/CPwm0lfCrWr6JpN7d2lw6Xsv2uQajKi6dp8CSIlsBHA2VLSs9SD9h670f8AYv8ADP7Juia94C8QT6SIpvEGr/FL4ZDxDp%2Bu3zPLcXl9JpwvbcJPPeyyXW7zmCM7DDZyJfEnx5%2BOHwt/a38O/Czx94w8A6r4V8WWmt6i2m6VoN1Zan4V0ixg8xdUvbyW9lhngMpitn/0e2xJdJtZxG%2BfIz/wUj%2BPmoeF/ix47j8DeGdD0PRNX8HN4F1LW9NvG/srw/rd59nfW9ZjE6M0cUCnUDEn2YxQsIpnjKSTKAfR/wAJ/gV4a/Zo/Zatvgf4TvZbu00Hw/dJJfTwpG95cyebNcXDJGAiGWeSWQogCKXwoAAFYvjj/lIX8L/%2ByM%2BPP/Tt4QrH/ZQ/aif9qf8AZ88b67d%2BIdA1y88KeIdX8OXniPwnaywaVrXkQpNFe2kcs0zLDLBcQsB50q53FJJEKudjxx/ykL%2BF/wD2Rnx5/wCnbwhQB7NRRRQAUUUUAFFFFABXjP7B/wDyRDXP%2ByzfEf8A9TXW69mrxn9g/wD5Ihrn/ZZviP8A%2BprrdAHs1FFFABRRRQAUUUUAFFFFABRRRQAUUUUAFFYnxA%2BJXw7%2BFHhubxj8T/HWkeHdJtx%2B%2B1LW9RjtYE4zgvIwGfbOTXzHqf8AwVa0r4paxN4T/YL/AGa/GXxtvoJTHPrWnw/2RoEDjgq%2Bo3ahd3oAmGAOGNcWKzDBYNqNWaUntFXcn6RScn91vM%2BlyLg/iXiSnKtgMNKVKHxVZONOjD/HWqSp0o%2Bjm5dos%2Bt6K%2BR10j/gs58ZT5l/4u%2BEHwY06T7iabYT%2BIdVh/3/ADSLVsf7PvTv%2BHaPxr8e/vP2hf8Agpv8aNeLczWvg%2B8t/DdrL6hordH%2BX2BFc39o4qr/AAcLN%2BcuWmv/ACZuX/kp7n%2BpmRYL/kZ55hoPrGiq2Kl99KnTpX/7iv1a1PqnXvEnh3wrp7at4n16y021T79zf3SQxr9WcgCvHvH3/BSb9gf4aO8Xiz9rjwKssfElvp2vRX0qH0KWxkYH2IrhNB/4Iv8A/BPmx1Bdc8X/AAn1PxhqS9dR8YeLdQvpG/3lMwjP4pXsXgH9jv8AZO%2BFioPh1%2BzT4E0Z06T2HhW0SU%2B5kEe9j7kmjmzyptCnD1lOb/BRX4h7DwrwXx18biX/AHKeHw8fvqVK87f9up%2BR4pN/wWv/AGA7yZovBPjfxR4oWM4lm8O%2BAtUmRD7l4Ez%2BGaT/AIfPfsgH7vh34mE%2Bg%2BG2of8AxFfWMEEFtCtvbQpHGgwiIoAUegA6U6j6vnT3xEPlS/zqXF/a/hnHSOUYhrvLHa/Plwij9x8ln/gs/wDsgRfvL3w78TLaEfeuJ/htqARfqQhP6U6P/guD/wAEzoj5Ws/H%2B80ybvb6h4I1lHH5WhH619ZUjxxyDEkasPRhmj2GdLbEQfrSf6VA/tbwyn8WU4mP%2BHGx/wDb8Iz5Z03/AILXf8EwtVuVtLX9qizVm6G58NarCv4tJaqB%2BJrttJ/4KX/8E/NatPttn%2B2N8PUQ/wAN34mgt3/74lZW/SvZNS8NeHNatmstY0Cyu4W%2B9Fc2qSKfqGBFcTqv7Iv7KGu3f9oa5%2BzD8PLyc9Z7vwVYSP8Am0RNHJnsdqlKXrGa/KbD614VVviwmOp/4a%2BFqf8ApeHp2/E5DUf%2BCmf/AAT60uEz3P7Yvw%2BZR1Fv4khmP5RkmuK8Uf8ABZX9g/T5E0f4bfEDWPiJr05IsvDPw%2B8MXeoXtyR2QbEj7jq4617Np/7JX7KukTC40r9mb4fWsi9Ht/BlihH4iIV1/h/wd4R8JRtF4V8K6bpiMAGXT7GOEEehCAUezzyejqU4%2BkJt/wDk0kvvGsZ4V4d80MHjazXSdfD04vybpUZzt35Wn2a3PlNvjX/wVX/aYItvgp%2Bzd4e%2BCXh%2Bfp4o%2BKN/9u1Yxn%2BOLTrcYhkH9yfK9eaktv8Agkh4Q%2BJx/tb9tb9pn4lfGHUJiGu7HUPEEmlaNn0isbNlEK57CQj6V9dUUv7Hw9XXFylWf95%2B78oR5Y/epFPxIzfALkyChSy6PehD98/8WJq%2B1rt/4ZUl2SPHPh9/wT0/YZ%2BF1rHa%2BC/2TfAUDRfcurvw1Bd3A/7bzq8h/Fq9S0Hwh4T8KwC18MeGNO02JRhY7CyjhUD6IBWjRXoUcLhcOrUqcY%2BkUvySPkcxz3PM3m54/F1azf8Az8qVJ/8Apc5fkgooorc8oKKKKACiiigArxn9l/8A5Lf%2B0d/2Wax/9QrwvXs1eM/sv/8AJb/2jv8Ass1j/wCoV4XoA9mooooAKKKKACiiigAooooAKKKKACiiigAooooAKKKKACiiigAooooA8i/b6%2BIXjT4UfsUfFP4kfDzWZNM1nRfA2o3Vlq8MYZ9NKwNuvFDAqTAu6YbgVzHyCMivPvgDpvirRvEf7QP7Onw8%2BKfiLV9F8O22mjwlrXinxje6rdaTqF9owlmtjqN1LLcFVP2a7G92aP7cdm1PLRfpm9srPUrOXTtRtIri3uImjngmjDpIjDDKyngggkEHgg1xfhD9mL9mv4feGYvBfgL9nrwNoejQR3kcOk6R4Ts7a2jS7VUulWKOMIBMqqsgA/eBQGyAKAPG/wDgnVN4u%2BHNz4l/ZV%2BMWn6ufiD4K8O%2BHdS8Uaxc/GHWfGdlqq30V3DHcQ3OrBJrSVpdPumktBEioGicF1kVq%2BfP%2BCkvxK8SH/grV%2Bx1aav8J/EOgWeleK/ENjp%2Bv6rc6c9prYuptDiZrVba7lnRVyAwuIoCd67Q3zY%2B9/hP8Dvgp8BdBn8LfAz4P%2BFvBemXNybm407wn4fttOglmKhTI0duiKz7VUbiM4UDtXwf/wAFrWOm/tl/sjeMgSB4d8VX%2Bos3oF1vwvGc%2B37yvLzqThldSS6cr%2B6dN/5n3fhlSjiOOsHRl9v2sf8AwLDYuK/FpH6M0UUV6h8IFFFFABRRRQAUUUUAFFFFABRRRQAUUUUAZXgb/kSdH/7Bdv8A%2Bi1rVrKHgzQ0ysDX0KZJEVvq1zGi%2ByqsgVR7AAUv/CH6T/z96r/4PLv/AOO0AalFZf8Awh%2Bk/wDP3qv/AIPLv/47R/wh%2Bk/8/eq/%2BDy7/wDjtAHh/iD/AIJp/s%2BeJfEfxm8S6hq/iYS/G3Traz1y3TUYfJ0QRKS0mmoYSIGmnIuZhL5qSzKpZSvyF/gr/gnd8OfC3i6P4heIPjF4%2B8U%2BID8TpPHd5rHiC90/zLvU28Kz%2BF/LZLWyhiS3FhOWWOJI8TIjZ2bo29t/4Q/Sf%2BfvVf8AweXf/wAdo/4Q/Sf%2BfvVf/B5d/wDx2gD5y/4dSfBiz8L6B4B8OfGf4kaR4d0ix8IQ6poOnanp4g8QTeGmtTpl3eM9i0om22Vskv2d4I5UiUMnyrj6B1j4daR4t8D678OviFfXPiPSfEUN9bala6pHCoayug6vZjyI4wYljcxqWzIVA3u7ZY3P%2BEP0n/n71X/weXf/AMdo/wCEP0n/AJ%2B9V/8AB5d//HaAPM/gd%2Bx7pfwLk1LWdO%2BOfjvxBr%2BqQ6LY3XijxNPps98dI0qSV7TSR5dlHF9mH2i7DOYzcsbyZzP5hWReWv8A/gmX8Bten8T6Z4v8WeL9Z8MeItJ8T6fZeCr3UrZNO8Pp4hkaTV5LFobeO5WSZ3kKtNNN5AldIBEjFa91/wCEP0n/AJ%2B9V/8AB5d//HaP%2BEP0n/n71X/weXf/AMdoA8i8OfsV6n4W/t7xFpX7XXxSPjPxI%2Bmx6p8QZ08Pyam9jYJcLbaeIW0k2IgVru5kJ%2By%2BazzMxkJxjnPHf/BJb9h34p/BeH4P/FH4N6R4muonuJW8c%2BItB06%2B8QPPc6pNq13L9rntm2G4vbm6lkSNFjzcyhEQEAfQH/CH6T/z96r/AODy7/8AjtH/AAh%2Bk/8AP3qv/g8u/wD47QB5zrP7JGjeJfinoHjvxJ8X/F154f8ACerw6p4W%2BGyx6Vb6FpV3DatbQyRi3sY7x1jV3dYpbl4ldgQnyRhMjwJ%2Bxbrnw%2B8cfEr4gaR%2B2J8Upr/4m3SXmoC5tfDezSbuOG2t4LizEejqd0dtaxQBJzPGybjIkjkvXrv/AAh%2Bk/8AP3qv/g8u/wD47R/wh%2Bk/8/eq/wDg8u//AI7QB4Z42/4J2%2BGfHvwE%2BIXwN1j9pH4lJcfFa/e4%2BIfjeFtEOr6xE9hHp5tiH0xrO3hFrDDGBb20TDytwbe8jPv/ABV/Y6v/AI2%2BCrX4Z/E/9qj4lan4am0ZNM8XaGItBt4vFkPmM0n214dLSWIyo3lSCze1VoxgKCST6p/wh%2Bk/8/eq/wDg8u//AI7R/wAIfpP/AD96r/4PLv8A%2BO0AYOlfBDwnpnx71r9ox9Q1C617WfC2n%2BHlhupYzbWFla3F1cYt0CBkaWS7YyszNv8AIgHyiMCvINI/4Jf/AAMsPC9x4K1Tx/421TSrPwcPC3gWyvNQs4x4H0pLq2u4YNLa3tY2BinsdPeOW6NzIv2CAbiqsG99/wCEP0n/AJ%2B9V/8AB5d//HaP%2BEP0n/n71X/weXf/AMdoA8Zh/YC8H2uhw3dl8cvHsPjmPxvP4sl%2BKitpLa5canNpw0uRnjbTzYGM6ekVqIRaCNUgiZVEkayCrrP/AATz8MvZfCLRvAH7RfxH8H6b8GL77f4Z07Qzotwl7fNZXtjNd3kmoaZcyyyy22o3qOEeNMzl1VXVHX3D/hD9J/5%2B9V/8Hl3/APHaP%2BEP0n/n71X/AMHl3/8AHaAPI/B/7DuheF/jr45%2BNurfHbxr4kg%2BI0rr4r8G%2BJ7HQrvSrqy%2Bzvbw6aGOmC8WyhSSQx24udm%2BSV3EjTTGSr4A/wCCcX7NPwN8T%2BOfHX7L3hi0%2BE2u%2BOtO06yutW%2BHnhfRbN9Mis3ZgLWOSwkhHmlv3qypKr4UhVKgj2b/AIQ/Sf8An71X/wAHl3/8do/4Q/Sf%2BfvVf/B5d/8Ax2gDjPAnwR8NfAT4K674R0HWtU1e5vzqWq674g12aKS%2B1fULnfJNdTtFHHHuYkKEjjSONESONERFUYHjj/lIX8L/APsjPjz/ANO3hCvUT4M0N8LO19MmQTFcatcyI3sytIVYexBFeXeOP%2BUhfwv/AOyM%2BPP/AE7eEKAPZqKKKACvEP2/vEniLQvgno2kaJ4r1LQLTxJ8S/Cvh/X9c0fUJLO6s9OvtatLa4EVzEyvbPMsn2YTIyvH9o3IyOFYe31m%2BMfBng/4ieFr/wAD/EDwppuu6Jqls1vqej6xYx3VreQsMNHLFICkiEdVYEGgD5T8IRftA%2BOP2Nfiv8L/AIL%2BP9e1XUfC/wAV9S0DwlrN74qk/tXUdFtdUt2u7CPVLhzJ9rERv9Niu5ZPMSSKNnl3o0leX%2BBL39p74n6F4n8OQ%2BEPitL8Pfh98eb7TLvwdZ/GhbfxZJpB8LWFwkcmvf2qn2hbbVru6aWMakSqqITJL9laFvtm3/Zr/ZztPBb/AA3tfgD4Ki8OyaH/AGLJoEfhWzWybTfMaT7EYBH5Zt97u/lY2bnY4ySaqa1%2Byf8Ass%2BJPhlpXwU8Rfs0/D%2B/8G6FdC60Twle%2BDbGXTNPnAkAlgtWiMUT4llG5VB/ePz8xyAcP%2BxJ8Y/i540/4J6/Dr40%2BP8AwjqvirxXfeBrO8ubDSLu0%2B16yxQCOeOW6ktoGaaPZNvd4kbeSNoIWpP%2BCdOrX%2Bvfs3X2t6r4YvtEubz4t/EOa40fU5IHubF28Z60TDK1vLLCXQnaTHI6ZB2swwT7jb29vZ28dpaQJFFEgSKKNQqooGAABwAB2rxz9g//AJIhrn/ZZviP/wCprrdAHs1FFFABRRRQAUUUUAFFFFABRXzd%2B0l/wUU8MfDj4gj9nL9m7wFd/Fn4tz/KPCHh64VbfSRkAzajdkGO0RcjKt83KghAwauMP7EX7Z/7WH%2Bn/t6ftVy6L4euOX%2BFnwdZ9PsmQ/8ALK6vnzPcqRgNH93IyrCvKqZpGVR0sLB1ZLR2soxfaU3on3S5peSPvMFwLVpYKnj8%2BxUMDQqLmh7RSnXqx6SpYaH7yUX9mpUdGk91OS1O7%2BPP/BT39mD4L%2BKf%2BFW%2BGNU1P4j%2BPJGMdv4E%2BG1gdVvzIOCsnlny4cHG4O4YA52muIF1/wAFbf2rDmztfCv7N/hW46SXATxB4mkjPfbxbQ7l7HbIhPcivoT4Cfsw/s//ALL/AIXHg/4B/CbRvDFkVUTtp9t%2B/uSOjTTtmWdv9qRmPvXeVP1LH4rXFVrL%2BWneK%2Bc377%2BXIjpfE/CmQ%2B5kGXKpNf8AL/GKNad%2B8MPFrDU/Ln%2BsSXVtny34B/4JG/su6f4jh%2BIfx/vfE3xm8VRnd/bfxS1yTUUQ5yVjtTiBY84wjI%2BAAM19N6Po2keHtLg0PQNKtrGytYxHa2dnAsUUKDoqooAUD0AqzRXbhcDg8EmqFNRvu0tX6t3b%2BbZ8znvFPEfE04yzTFTrKPwxlL3ILtCnFRpwXlCnFBRRRXUeAFFFFABRRRQAUUUUAFFFFABRRRQAUUUUAFFFFABRRRQAUUUUAFFFFABXjP7L/wDyW/8AaO/7LNY/%2BoV4Xr2avGf2X/8Akt/7R3/ZZrH/ANQrwvQB7NRRRQAUUUUAFFFFABRRRQAUUUUAFFFFABRRRQAUUUUAFFFFABRRRQAUUUUAFfnL/wAF6f8AiXar4E8a9P8AhG/A%2Bt6nv/ubfFXgiPP/AJEr9Gq%2BAP8AguNof/CQ%2BG7iw2bvL/Z/8Z3OP%2BuHiTwPNn8PLzXl55FyybEJb8kvwV/0Pu/C6rCh4lZNKfw/WqCfpKooP8Js%2B/6KxPhrrn/CT/Dnw/4l37v7R0S0ud3r5kKvn9a269KMlOKkup8TXpTw9edKW8W0/VNp/imFFFFUZBRRRQAUUUUAFFFFABRRRQAUUUUAFFFFABRRRQAUUUUAFFFFABRRRQAUUUUAFFFFABRRRQAUUUUAFFFFABRRRQAV4z44/wCUhfwv/wCyM%2BPP/Tt4Qr2avGfHH/KQv4X/APZGfHn/AKdvCFAHs1FFFABRRXkP7a/xI8ffDz4T6RZfDLxK2hax4s8f%2BHfDEPiJLSGd9Ji1DU7e3nuY450eJphC8gi8xHjErRl0dQUYA9eor5SsPjL%2B1RP%2ByH8ULDwb4g1HxV47%2BH3xGu/DNv4otdBtZdSvtLivrVpr%2BOzhiS3nv4NOuZcRJEI5rm1AEIEnlV4%2Bf2zv2pPF%2BmT/AAj%2BGnir4paze6P8d7rwxFf2vhDQdJ8d6/oqeEbXWxMlnrdpbaZatFc30ccjXEFuxto4tqieYKwB%2BhteM/sH/wDJENc/7LN8R/8A1Ndbp37LPx81jxZ%2Bw/4H/aA%2BLWqza3qt14Ls7zxNceFvDF7cyzXgjVbhYrG3ga4aQSh1aJIshlbCKBgZ/wDwTp8Q2Hi39m6%2B8U6Vb30VtqPxb%2BIdzbxanpc9lcoj%2BM9aYCW3uESaBwDzHIiupyGUEEUAe6UUUUAFFFFABRRXjn7Y/wC2d4B/ZA8GWV3qWk3fiPxf4iuvsPgfwJo/zX%2BvXpICxxqASkYLLvlIIUEABmZVbHEYijhaMqtWVord/wBbt7JK7bskmz0soyjMs%2BzKngMvpOpWqO0Yr5ttttKMYpOUpScYxipSlJRTZ6Z488feCfhf4Rv/AB98RvFdhomi6ZAZtQ1TU7pYYIEHdmYgDnAA6kkAZJr49vPjR%2B1J/wAFO72Xwv8AsqXurfC34Jea0Wq/Fm7tWh1nxLGDh4tIhfDQRHkfaWwfTBVom1/Af7Bfxe/al8WWHx0/4Kd%2BKLXXJLSYXPhv4MaJKR4d0I9VNyM/8TC4AOGLkp95cyIQF%2BvbKys9Ns4tO060it7e3iWOCCCMIkaKMKqqOAAAAAOBXl8mNzX%2BJelR/l2nP/E18EX/ACp876uOx94sVwzwFpgnDH5iv%2BXrXPhcO/8Ap1GStiasXtVnFYeDV6dOs0pnn37NH7KHwJ/ZG8Bj4f8AwM8DQaXbyMJNSv5D5t7qc3ea5nb55nJJPJwucKFHFejUUV61GjSw9JU6UVGK2SVkj89zDMcwzfG1MZjqsqtWo7ynOTlKTfVttt/klZJJJJFFFFaHGFFFFABRRRQAUUUUAFFFFABRRRQAUUUUAFFFFABRRRQAUUUUAFFFFABRRRQAUUUUAFeM/sv/APJb/wBo7/ss1j/6hXhevZZJI4o2llcKqjLMxwAPU14l%2ByXq2la58Yf2i9S0XU7e8tn%2BNFmqXFrMsiMV8GeGFYBlJBIYEH0II7Urq9hXV7Ht1FFFMYUUUUAFFFFABRRRQAUUUUAFFFFABRRRQAUUUUAFFFFABRRRQBx37Qfxm0L9nf4HeLPjn4k0y6vrPwpoFzqUmn2O3z7xooyyW8W4hfMkYLGu4gbnGSBk1zX7Pf7Q3i/4kav40%2BH/AMavhxpfgzxd4EurT%2B2rDSvE7atp8lndWq3FvdQ3clrasyn99E6vChSS2kxuTY7dL%2B0J8GdD/aJ%2BBviz4GeJNUurCz8V6Bc6bJqFjt8%2BzaWMqlxHuBXzI2KyLuBG5BkEZFeaeC/2NPFOo2XxCg/aT%2BJ%2Bi%2BN2%2BLWnvpfxCj0bwvd6HFcaYunrZW9nZ%2BXqUstmoVrqSSQyyyPJdsUaAIigA0P2OP2x4v2vb34gz6b8Np9B0rwl4pt9P8P6hdaj5r6/p1xptpf22peV5afZkmiuldIizt5ZRmKMzRJ47/wVR0P/AISLU9U03ZuK/sofFSdVx1MV34UlH6oK9h/ZV/Yf8EfsmfEb4k%2BOvBnjvxZqsPxB1bT7uOw8TeMdY1c6bHa6db2Yj83Ub25Mzs0LP5uEcI8cPKQx48v/AGpPgN8KNN/aqvNY8E/C7w9pOu%2BOP2aPibF4l1jStFgt7vV3%2B1eF0ja6mjQPcFfMfBcsRuOOprmxsPa4KrDvGS%2B%2BMj3OGMV9R4mwGJ/kr0Zf%2BA1qTf4JnuH7Feu/8JP%2Bxz8J/ERfcb74a6HOx/2msICf1Jr02vAf%2BCWOuf8ACQ/8E7vhBf793l%2BCrW2z/wBcMw4/8h4r36oy6ftcvoz7wg//ACWJ0cZYX6jxjmWH/kxFeP3V6v6WCiiiuw%2BbCiiigAooooAKKKKACiiigAooooAKKKKACiiigAooooAKKKKACiiigAooooAKKKKACiiigAooooAKKKKACiiigArxnxx/ykL%2BF/8A2Rnx5/6dvCFezV4z44/5SF/C/wD7Iz48/wDTt4QoA9mooooAK534sfCfwD8b/AV78M/ibobaho9%2B8Ek0MV7NbSxywzJPBPDPA6SwTRTRRyxyxOskckaOjKygjoqKAPOPC37KPwX8EfD26%2BF/hCz8SabpF7aTw3Qs/HmsR3Urz3Ul1Pdm6F39o%2B2yTyySPe%2BZ9pct80pAAGPe/sJfsyXvgTSvh/8A8IhrVtDouu3Gtafren%2BOdYtdcTULiOSK4um1eG7XUJZZY5HjkZ52MiEK2VVQPX6KAMb4dfDzwV8JfAmkfDL4ceHbfSNB0HT4rLSdNtQdlvBGoVVBJJY4HLMSzHJJJJNeZfsH/wDJENc/7LN8R/8A1Ndbr2avGf2D/wDkiGuf9lm%2BI/8A6mut0AezUUUUAFFFcb%2B0D8d/h1%2BzN8Hde%2BOPxW1f7Honh%2Bxa4uWXBkmbIWOGMEjdJI5VFXIyzDkDmoqVKdGm6k3aKV23skt2dODweLzHF08LhYOdWpJRjGKvKUpNKMUlu22kv6tyP7aP7X/hL9j74XReJ7zR59f8Ua7eLpngXwZp5Ju9e1KTCxwRqASEBZS74O0EAAsyK3D/ALGf7F/jLwp40u/2wP2wNbt/E/xp8SW2ySVBusfCdkwO3TNPUkhAoYq8g5YlgCdzvJg/sUfs%2B/Ez4z/E1v8Agot%2B2Jo32fxhrNkYvhv4KmJeLwTosgJRQCB/pkytukcgMAxX5SzIn1tXkYalPMayxldWgtacH0/vyX8z%2Byn8EX/M21%2Bh55mGF4My2pw7lNRSrzXLjMRBp8z0vhaM1/y4ptWqzi19Yqp6uhThGoUVT17xBoPhXR7jxD4o1uz02wtYy91fX9ykMMK/3ndyFUe5NeA/En/grP8A8E7PhbM1prn7VHhzUbkNtS18MNLq7u/QIPsSSjOeOSPevRxGMwmEV69SMPVpfm/0PyjFZhgMDG%2BJqxgv70kvzaf3Jn0VRXyMP%2BCoHxI%2BJh8n9lP/AIJ2/F/xqH/499V8RWEXhzTJ/QpdXRbI%2BqjFO/4Tn/gtN8R%2BPD3wL%2BCPw3gk%2B8fFfia91e5iH%2Bz9iAjZh78Vxf2zhJ/wYzqf4YSa%2B9qK/E8//WDA1P4EalX/AAU5tf8AgTUI/ifW9FfI4/Yq/wCChfxLIl%2BOf/BUDWdNt3%2B/o/wx8F2mlCL1C3bFpW/4EvFO/wCHOvwK8QHd8YP2h/jj4/Lcyr4t%2BKFzIre2IViwPan9dzKp/DwrX%2BOcI/gudh/aGb1f4WCaX9%2BpCP4R9oz6j13xp4O8LlV8TeLNM04sQFF/fxw5%2Bm8irGla9oeuRefoms2l4mM77W5WQfmpNfM%2Bhf8ABFz/AIJmaAGaH9l2xupHz5k2p6/qV0zE9SfNuWwfpioNV/4Il/8ABMTVZftDfsww20gOVksPFOrQbfoI7oD9KPa53v7Kn/4Ml%2Bfs7fgHtuI9/YUvT2s/z9lb8D6qor5K/wCHJX7ANv8A8gbwZ4r07HT7F8QdVXH/AH1OaP8AhzL%2Bytb/APIH%2BIfxZ070%2BxfEy%2BXH/fRNH1jOVvh4/Kr/AJ0w%2BtcQLfCwfpW/zpo%2BtaK%2BSv8Ah0H8L7bnQv2vv2idLYfcew%2BLMylfpuiaj/h1p4xtP9F0n/gpz%2B0zHatxIl38Qo55dv8AsyGAFT74o%2Bt5qt8L91WH6xQfXs7W%2BCv6Vqf6xR9a0V8lH/gkJ8Nrv/Ste/bH/aM1TUF5i1W/%2BLMzXETf3lKxBQfqDSD/AIJs/H/wsfL%2BFn/BU743WcQ%2B4niu7tdcYenzTRpmj65mkdZYXTyqQb/FL8w%2Bv5zHWWC0/u1abf3NR/Bn1tRXyTJ%2Byj/wVQ8IAX/gj/gqNp/iFouY9I8X/CHT44JvZ7i3cyj/AICKanxq/wCCxXwxP2Hxt%2BxV8Nfibs/5iHw/%2BIn9jhgO5j1JWO7HYcZ6Uf2pKH8bD1I/9uqa/wDJJSf4B/bU6f8AvGFqw8%2BRTX/lOUn/AOSn1xRXyT/w8P8A2sNA%2BT4gf8EovitbOPvjw7qtjqyj6GMrmhv%2BCpfja7/4lei/8ExP2lpNVb/VwX3gCO2tT9bkzlV/Kj%2B28tW8mvWFRP8A9Nh/rFlK%2BKck%2Bzp1U/u9kfW1FfI0n7Rv/BWb4r/6F8Kf2BfCXw9il/1Wu/FD4gpeIB6taaeomQj0JNLF%2ByB/wUv8f51b4rf8FOm0CaTrovw%2B%2BHdnFbW47hZ5z5sn1YZ4pf2pKp/AoVJ%2BfLyL76jj%2BEQ/tqVX/dsNVqefL7NffUcW/lE%2BsNX1fSfD%2Bl3Gt69qlvZWVpE0t1eXc6xxQooyXd2ICqB1JOBXy54t/wCCtnwS1PxLeeAv2Vvhf45%2BN%2Bt2cnlXDfDrQmn0y3l7Ca/crEq9P3ib15HNU4v%2BCTPh34hara3P7XP7VnxQ%2BL%2Bl2Uomt/CviTXBbaU0wIIkkgtgpkIwMAtjqCCDivqHwN4C8D/DLwva%2BCfhz4P0zQdHsU2Wel6PYx21vCvoscYCj8uaV84xb0Sox87Tm/RK0F8%2BZ%2BRN8%2BxrslHDx7u1Sb9ErU4/Nyfkj5cj8ef8Fnvi6De%2BFfgf8G/hPp8x%2BW38aeILvWtSiTsR9hAgLezAY6Up/Yt/4KJfEk/8Xt/4Kh6rptpJ/rNJ%2BGvgaz0tk9dt4xaX814r64op/wBkU5/xqtSfrNpfdDkRX9hUan%2B8V6tT1qSiv/Aafs18j5JT/gkD8MyPtt1%2B2F%2B0TNqj83GtP8V5hczH1YiLb/47Sj/gk3Af3Uv/AAUe/asaAfctz8X8KB6f8e2SK%2BtaKf8AYeU/8%2Bvxn/8ALA/1cyTpRX/gVRflVV/nc%2BSW/wCCWPirwyft3wn/AOCkf7ROkXvVjrXjdNWtnb%2B80EsKgn8aB%2Bwr%2B37rP/Eu8a/8FcfFk%2BnJ8sMeh/DbS9Nudn%2B1cIzMzf7WK%2BtqKP7Fy5fCpJdlOol9ymH%2BruVL4Yyiu0alVL5pVD5HP/BOz9qvwaf7S%2BDX/BVj4sWmoN80p8cWVn4htnf/AGYZlQRqfQE4pD%2ByF/wU0%2BIh/sz4uf8ABTVdH0uP5Gh%2BHnw9tbO6u1/56NcyMWgf2QFfyr65opf2LgVonNLsqlRJ/Lnf5oP9XsuWkXUS7KrVSfqud/mvM%2BSYv%2BCMf7KniN1uPjz47%2BKXxSmJ3TSePPiNeziRuuSLdoeM9q6r/gn78Hfhp8APE/x7%2BEXwe8JQaH4c0f4yWw03S7aR2SESeD/DUz4LszEtJI7EknljX0ZXjP7L/wDyW/8AaO/7LNY/%2BoV4Xrpw2XYDBzc6NJRk9G7av1bbb%2B868HlOWYCbnh6MYyas2l7zXZybcn82ezUUUV2noBRRRQAUUUUAFFFFABRRRQAUUUUAFFFFABRRRQAUUUUAFFFFABRRRQAV4j8UNNh1n9vT4c6Rcj93d/BDx/DJx/C2qeEVP869urxnxx/ykL%2BF/wD2Rnx5/wCnbwhSaTVmVGUoSUo7rU86/wCCJepT33/BM34cWl5xcaedWsrhc/daLVrxQP8AvkLX1XXyX/wRp/4l37LviXwX0/4Rv4ueJtM2f3dt6ZMf%2BRK%2BtK8vIm3k2HT6Qivuuv0PvPFWMV4l5xKO0sRVmvSo1UX4VEFFFFeqfAhRRRQAUUUUAFFFFABRRRQAUUUUAFFFFABRRRQAUUUUAFFFFABRRRQAUUUUAFFFFABRRRQAUUUUAFFFFABRRRQAV4z44/5SF/C//sjPjz/07eEK9mrxnxx/ykL%2BF/8A2Rnx5/6dvCFAHs1FFFABXmH7W3xk8ZfBj4YWF98NbPTJfEviTxhovhrQJNbgklsrW41C/htjdTxxSRvLHDHJJN5SyRmUxCMPHv3r6fXG/Hj4JeGv2gfh1L8O/E2sanpe3UrHU9L1rRJo473S9QsrqK7tLuBpY5I98c8MbbZEeNwCjo6MykA8Tv8A9sf4z%2BGf2Q/iJ8SNd8PeHr3xz8N/G83hbW76w026TRgFvraL%2B2WtvOknS1hsruO%2BngEzMghmjExwJa5rwh%2B3T8RviR%2BzZ8Wfi34S/aF%2BFgi%2BB/iS%2Bt/FPxBsvAF7qeheIdNg0Oz1j7TYWyazE8REd8sJb7XcIz20hX5ZFK%2B2/Dn9lgfCn4e6t4G8F/HrxxBda5JeXupeJpV0mXUJtWurp7ifVSXsDD55LiMReV9lSKKNEgULWY/7Dfw01H4M6z8G/FXjjxVra%2BK/GVl4m8c%2BItRurQah4mu7a5s5fLuzFbJAIJIbC2s3ihhiX7LH5SbPvUAdH8Jfif4x8O/ss%2BGPi3%2B2Rq3hfwj4hXwhY6h8QZkmOn6TpF7JCjXEYe6mcxRRyMYwZJCTtyTziuR/4J0%2BJ/DXjX9m6%2B8YeDfENjq%2Bkap8W/iHd6ZqmmXaXFtdwSeM9aaOWKVCVkRlIYMpIIIINe6V4z%2Bwf/yRDXP%2ByzfEf/1NdboA9mooooAK%2BJLL/jaT%2B1%2BNVf8A0n4BfBHXSLRT81v4z8UxjmT0ltbUHjqrs38ayEL3/wDwU%2B%2BNnjXwz8LNF/Zg%2BB95t%2BJHxp1U%2BGvDRjY7rC0ZQb/UGxyqQwMcsOVMisPumuwvPEP7Mv8AwS//AGRdK03xJrcOh%2BEfB%2BmR2NkojButUucElY41wZrmeTe5A6szMSFBI8LG1KeLxTo1JJUaVpVG9m94wfkkueXf3I9bP9HyvE0eAuEZcRVZKOLxSqU8O27exoxXJiMSu0pOTw9CX2W69SL5oxa9rkkSJGllcKqglmY4AHqa%2BRfin%2B3/APEj48%2BPb79nH/gmd4WsfF%2Bv2Uv2fxP8UNTyfDPhfPX96oIvbgDlY49y5wf3gV1GBD8KP2w/%2BCm5TWP2jH1X4N/BK5w9p8NtLuvL8QeJoDyDqc682sLjrbr8xBKsMhZa%2BuPhV8Jfhr8DvAlh8MvhH4K0/wAP6DpkWyz0zTYBHGnqx7u5PLOxLMSSSSc1ftMbmmlK9Kl/M9JyX91P4E/5pLmf2Yrc/F/bZhnOlC9Gh/O1apNf3E17kX/PJc7XwwjufNfh/wD4JN%2BDPiDrFv43/br%2BO/jD4463DIJY7HX702GhWsvrBptswROpBBZlI6rX0R8Nv2f/AIE/BuFYPhJ8F/CnhhVXaP7A8P21oSPcxIpP1PWuuortw2W4HCPmp01zfzPWT9ZSvJ/eehhMpy3Ay5qNJKXWT96T9Zy5pP8A8C%2BQUUUV2nohRRRQAUUUUAFFFFABRRRQAUUUUAFFFFABRRRQAUUUUAFFFFABRRRQAUUUUAFFFFABRRRQAV4z%2By//AMlv/aO/7LNY/wDqFeF69mrxn9l//kt/7R3/AGWax/8AUK8L0AezUUUUAFFFFABRRRQAUUUUAFFFFABRRRQAUUUUAFFFFABRRRQAUUUUAR3t7Z6dZy6hqF3FBbwRNJPPNIFSNFGWZmPAAAJJPSua%2BH/xz%2BCfxY8CTfFL4WfGHwt4l8MW5mFx4j8P%2BILa9sIjEMyhriF2jXYOWy3yjriuL/b7%2BH3jT4rfsUfFP4cfDzRpdT1nWfA2o2tlpEDhX1MtA26zUsQoM67oRuIX95yQMmvP/wBmXxvaSfGT4x/HK3%2BFnjvRfCfi59Nl0HTtV%2BG%2BrWN3qEumaRGl7dGzmtkliZ1a3tIllRHuDYkRCRFRiAe6fCf45fBT49aHP4n%2BBnxh8LeNNMtbk21zqPhPxBbajBDMFDGNpLd3VX2sp2k5wwPeuC8cf8pC/hf/ANkZ8ef%2BnbwhXC/sNaX4i1H9o74y/FSR/iDrWheI7Pw6uleMfid4Ll8O6lcTQDURNpcVjJZWJNpaJJbvHctbK8j30yPLN5AK7N/pvxXtP%2BCm3gu88beNPD2oaFcfB7xwfDWnaV4Yns7uwQat4S8xbm5kvZkuycpgpDbhdpyG3DaAcl/wSr/4lGrftI%2BCm4/s/wDaZ8Szwr/dhnW2dB%2Bhr60r5L/YD/4kv7Z/7WXgrp5HxE0nU9np9s07zM/jsr60ryck0y2Mf5XNfdUqH6B4oe/xrWrf8/KeGqf%2BB4TCP9GFFFFesfn4UUUUAFFFFABRRRQAUUUUAFFFFABRRRQAUUUUAFFFFABRRRQAUUUUAFFFFABRRRQAUUUUAFFFFABRRRQAUUUUAFeM%2BOP%2BUhfwv/7Iz48/9O3hCvZq8Z8cf8pC/hf/ANkZ8ef%2BnbwhQB7NRRRQAUUV5/8AtL/HG5%2BAPw1i8WaL4RXxBrWq%2BIdL0Hw3ocmo/Y473UdQvYrSBZZ/LkMEKtL5ksgjkZYo3KpIwVGAPQKK%2Bfbn9ui60L9l7xT8bvFvwpjtPE/g7xifCOt%2BErfxEJLSPWH1KCwgxqDwJiykN1a3BuWgVo4JSzxBkaOuQ8Wf8FQdJ8B%2BEtR0nxt4X8EaP4%2B0f4oSeBdY07Vvietr4asL6PR4taa5m1qWyVkthY3EALG08z7TKtv5ecuAD6xrxn9g/wD5Ihrn/ZZviP8A%2BprrdemfDnxHqfjDwBovizWYNIiutT0uC6nTQNZOo2IaRA3%2Bj3RiiNzDzlJfLTeuG2rnA8z/AGD/APkiGuf9lm%2BI/wD6mut0AezUy5ubezt5Lu7nSKKJC8ssjBVRQMkkngADvT6%2BWP8Agsv%2B0eP2bv2BfF%2BoafqQttY8Wxr4Z0VgxDB7sMszgjkFbZbhwRyGVa5cdi6eAwdTEz2hFv7lt83ZfM9TJct/tfN6GCc1TjOSUpy%2BGENXOpL%2B7TpxqVJeUGeH%2BCf2qvhsfiR47/4K3/G77Vd6IZ5PAf7Onhe1iL3uswRSMs09pF1aW6uNyh8ZjQSq2VAz69%2Bzd%2Bx78V/jl8UbD9tn/goXFb3fiy3/AH3w/wDhlE/maX4IhYhlYqeJ77hS0pztYDHKp5fIf8Eu/wBhfWpfC/gj9rH9p21S41nTPCtrafCjwW6k2ng3SfKXy5dpAD3864kllIDBnPQ8J90V4GT5fWxVCFfGLRvnUX1k9XOa%2B5Qi9IRUW7y%2BHk4szaHHXEbzBQdPAUVGng6L%2BzQpe7RnUX88leq4vSM6s5yTm1yFFFFfUnMFFFFABRRRQAUUUUAFFFFABRRRQAUUUUAFFFFABRRRQAUUUUAFFFFABRRRQAUUUUAFFFFABRRRQAUUUUAFeM/sv/8AJb/2jv8Ass1j/wCoV4Xr2avGf2X/APkt/wC0d/2Wax/9QrwvQB7NRRRQAUUUUAFFFFABRRRQAUUUUAFFFFABRRRQAUUUUAFFFFABRRRQAUUUUAFeJ%2BPb%2Bzg/4KL/AAp0%2Ba4VZp/gv4/aGNjy4XVvB%2B7H0yOP8DXtlfA//BVP4sa1%2Bz1/wUF/ZQ%2BP9u7ronh628XWvjGXdiODSb%2B78N2Ms0nqqPPCw/2gtc2LxMcHh5VpbRtf0uk38r39Ezkx%2BLhgMJLET%2BGNr%2BSvFN/JO78kz0T9mL/iQ/8ABWP9p/R%2Bg1zQPBepovY%2BVYS25I/E19aV8jafdxfDT/gtTqNtrwNtb/Ev4Iwf2DO33Ly90%2B8YzQA/31g/eY/u19c1xZRpSqw/lq1PxlzflK5%2BmeIqdTH5fiulXA4Jp9HyUXRf3SouL7NWeoUUUV6x%2BfBRRRQAUUUUAFFFFABRRRQAUUUUAFFFFABRRRQAUUUUAFFFFABRRRQAUUUUAFFFFABRRRQAUUUUAFFFFABRRRQAV4z44/5SF/C//sjPjz/07eEK9mrxnxx/ykL%2BF/8A2Rnx5/6dvCFAHs1FFFABXn37S/wOuvj98NYvCei%2BL18P61pXiHS9e8N65Jp32yOz1HT72K7gaW38yMzws0XlSxiSNmikcK8bFXX0GigDw34f/srfEbwR8I/GPgHVPiZ4P8Q6p46utS1XxFfa98O5J9Pu9VvZmMhksTqOHsFthDbLaGXzNkO57l2YmuB8If8ABMKx%2BGvhnQtf%2BGXi/wAFaJ8QtB%2BJlx42tNWs/hkIvDkN3Pop0N7WDRoL2Nre2XTxEiKl35gmhErSPvkR/rCigDzH4L/sr/D34Yfsv6P%2Byx4wsbDxloNlpbWmqwa7o8L2mpGSRppQ1owaJITI7bIfmWNAiAnaDXM/8E6fDHhrwV%2BzdfeD/Bvh6x0jSNL%2BLfxDtNM0vTLRLe2tII/GetLHFFEgCxoqgKFUAAAACvdK8Z/YP/5Ihrn/AGWb4j/%2BprrdAHs1fnX%2B3R4QH/BQf/gqn8OP2K8fafBfwq0n/hKviPGPuPJKY3S1kHQl4xaoOchLyUj7pr71%2BKvxJ8L/AAb%2BGfiD4s%2BNrswaR4a0a51PUpVGWEMMbSMFHdiFwB3JA718pf8ABGDwB4i1/wCDfiz9t74n2qjxh8dfFlzrt1y5%2By6bHLJFaWy78kIv75kx1jkiH8Irwc3hHH4ijl/ST55/4INOz/xT5V6JnLXxFZuWDo/8vItVH2pNpSXrVt7L/A6vdn2WiJGgjjQKqjCqBgAelLRRXvHUFFFFABRRRQAUUUUAFFFFABRRRQAUUUUAFFFFABRRRQAUUUUAFFFFABRRRQAUUUUAFFFFABRRRQAUUUUAFFFFABXjP7L/APyW/wDaO/7LNY/%2BoV4Xr2avGf2X/wDkt/7R3/ZZrH/1CvC9AHs1FFFABRRRQAUUUUAFFFFABRRRQAUUUUAFFFFABRRRQAUUUUAFFFFABRXmH7afxe8VfAP9kz4h/GPwNHanW/D/AIUvLrR3voi9vDdCMiKWVQQWiRyruuRlVYZGcjkf2c9f%2BNB8e/F39mbxx8cdU8U33hFdLm8PePNU0bTob%2BJNRsGby5orO3gtZHgnhlkXEK5jmiRw5Uu4B77Xyl%2B3t8BtP/ae%2BN2j/AXUFjz4l/Z4%2BIdtZSS/diuxqvhCS2lP%2B5OkT/8AAa639ijx38T/ABf40%2BJei6n8Z9Y%2BJHgXw9rVrpnhXx34g0vTra5vtSiSVNWto2061tbe5treZYYlmWEHz/tcRd/J4gv/AIneG/GP/BTbwX4M0nTfEMN54e%2BD3jiO/m1XwjqNjaSl9W8JYNtdXMEcF6BtOWt3kC5G4jcuc61KnXoypTV4yTT9Gmn%2BZlXoUsTQnRqK8ZJpryaaf4M%2BYPHPxK8YfGj/AIJnfCD9v3QLGeb4jfs9a3Bc%2BJLVuLmaOzkFhrFtJ/d86FFuH9EFfon4L8X%2BHviD4O0nx74S1BLvStb02C/0y6T7s1vNGskbj2KsD%2BNfH3wH0fwx8Df2%2Bfjd%2BxF8QLONfCXxqtW8a%2BDbG6UrDfSXMLQa1aqfus5Zd/ljkRoTjFdF/wAEmvE2ueC/h540/Yi8e6jJP4g%2BBni6fRIZZz%2B8utFnLXGm3JHYPEzqoxwsa18zlNadDFxjUes04S/6%2B0dL/wDb9Lll52Psshr1OJvCZUqr5sVk9Vwl3eHrS5W%2B9oYiMJ%2BUcV2ev1lRRRX1R8kFFFFABRRRQAUUUUAFFFFABRRRQAUUUUAFFFFABRRRQAUUUUAFFFFABRRRQAUUUUAFFFFABRRRQAUUUUAFFFFABXjPjj/lIX8L/wDsjPjz/wBO3hCvZq8Z8cf8pC/hf/2Rnx5/6dvCFAHs1FFFABXHfHj42eGv2fvh1L8RPE2kanqm7UrHTNM0XRIY5L3VNQvbqK0tLSBZZI4/MknmjXdI6RoCXd0RWYdjXl/7W/wb8Z/Gf4YWFj8NbzTIvE3hrxhoviXQI9bnkisrq40%2B/huTazyRRyPEk0aSQ%2BaschiMgkCSbNjAGbD%2B2x8Ml/Z31X9oXVvCfiXT10TX28P6r4PurO3bWINb/tBNOj0zZFO8DTS3UsMcbrMYHE8cgl8tt9YGrf8ABQbw1p2l6LZWP7PHxE1Dxhq/xMl8Bz/Dq0bRF1bTNXTQrjXitzLNqaWIjOm24uFeO6k3C4hABZmC53g79mD4rr8CfiL4H%2BLnwz8BeJ9T%2BI2uah4m1XRR4zv7fT01Ge4TyLFLpNP8%2BKOC3t7QrqCRib7QjSLbxYXHCeFP%2BCeWv%2BEPg34h0fxR%2BzB8IvifrPjb4oSeMtX8K/Erx3qeo6bodwNHt9Jglt9Tv9LvbvULkW1sN9xNDC7Ndz7WRQqEA%2BwtA1K81jQrLV9R0C70q4urSOafS794Wns3ZQzQyGCSSIuhJVjG7pkHazDBPkn7B/8AyRDXP%2ByzfEf/ANTXW62Pgl8ANY8GfsmeFv2cfiv8QtX12%2B0nwlZ6TrXiLStdvtPu7qSKJVaSK7hmW7j5XCyeb5pUDc5JYnmf%2BCdPh6w8Jfs3X3hbSri%2BlttO%2BLfxDtreXU9Unvbl0TxnrSgy3Fw7zTuQOZJHZ2OSzEkmgD5r/wCDgf4/a3pnwT8KfsafDiZpfEvxX1%2BCK4toX%2Bb7BFNGFQ45Xzbp4FB6MI5BzzX3L8Hvhro3wa%2BE3hj4R%2BHQPsHhjQLPSrQhcbo7eFIgx9yFyfc1%2BWHw51KX/goX/wAFu9D%2BLcpW88L%2BGNQvL7w2rJu26PojNb215G3QxXGqSyPzyDGR2r9cq%2BXyKq8wzDF4/wCy2qcP8MNW/nJ3%2B49SWBhguG8HipfxMdz4j0oRlLD4Zek1TxFfzVSD10CiiivqDywooooAKKKKACiiigAooooAKKKKACiiigAooooAKKKKACiiigAooooAKKKKACiiigAooooAKKKKACiiigAooooAK8Z/Zf8A%2BS3/ALR3/ZZrH/1CvC9ezV4z%2By//AMlv/aO/7LNY/wDqFeF6APZqKKKACiiigAooooAKKKKACiiigAooooAKKKKACiiigAooooAKKKKAMzxp4N8K/EXwdq3w%2B8daBa6romu6bPp%2BsaXexB4by1mjaOWGRTwyOjMpHcE1wPgX9jf4D/DfwxqvhPwhp3ieC311bv8Aty7ufiFrdze6i1xaxWjPPeTXj3E0iW8EMUMjyFrdY1EJjxXqNFAHnf7OX7LPwd/ZQ8Hr8P8A4I23iSz0OG0trWy0rW/HesazBYQQIUiitU1G6nFqgVsbYdgYBdwO1cc744/5SF/C/wD7Iz48/wDTt4Qr2avGfHH/ACkL%2BF//AGRnx5/6dvCFAGT/AMFCf2VNe/aS%2BE1n4l%2BEuojSvih8PtRGv/DXXFIVor%2BLDNaux4MM6qI2U/LnYzAhcH5Zvv2mUtdQ8G/8Fg/hvoN1ZW8ax%2BCP2oPBEUbGbTPLkWP7UYj83mWsxUgkb2heIfKDJX6RV8S/tjfAHx1%2By38SfFn7YvwN8A/8Jl4B8c6ebb9oD4SRwgnVLTy2jk1WzXp9oWNn8xP%2BWgLMeWZl%2BazvBTg3i6N1s5WV3Fx%2BCokt%2BXWM0tZU5PdxRvkGfPgniVZvKk62EqxdHGUV/wAvKE1yykt/fgrSTSbThTmrum0/tHRdZ0nxHo9p4h0HUobyxv7aO4sry2kDxzxOoZJEYcMrKQQR1BqzXwX/AMEo/wBqrwV4K1FP2JdS%2BI41vw7cxSar8A/Fl0xA1zQWLM2muzYxeWbb43iOGAVgFCxrn70r1stx9PMsJGtHfZq97SW6811T6xaa3Pb4oyFcP5p7KjUVbD1Ixq0Ky%2BGtQqLmp1I7rWPuzjduFSFSDs46lFFFd586FFFFABRRRQAUUUUAFFFFABRRRQAUUUUAFFFFABRRRQAUUUUAFFFFABRRRQAUUUUAFFFFABRRRQAUUUUAFeM%2BOP8AlIX8L/8AsjPjz/07eEK9mrxnxx/ykL%2BF/wD2Rnx5/wCnbwhQB7NRRRQAUUVzvxX%2BK/gH4I%2BAr34mfE3XG0/R7B4I5porOa5lklmmSCCCKCBHlnmlmljijijRpJJJERFZmAIB0VFed2X7VvwEvvgXdftIp46aHwhYyTw317eaRd29zbXMNybSS0kspYlukuhcqYPsrRCYy4jCFyFNcftgfs8x/A3xB%2B0ZqXji403wr4U89fEk2s%2BH7%2BxvdNlhClreawuIEvEnIePZAYfNl86Ly1fzE3AHplfL/wALfiH/AMKj/wCCf/xc%2BKSz%2BW/h3xl8WtRibODvh8V6/IoHuWUAe5r6O8GeL/DvxC8H6T4%2B8Iaj9s0nXNMg1DS7vyXj8%2B2mjWSN9rgMuUZThgCM4IB4r4A/a98cy%2BCf%2BCOHxbtrKcJeeIPjN440WzBbAY3PxC1RJB/35838q4szxH1XLq1b%2BWEn87O342ODNa88LlderDeMJNd72aVvO7VvOxz3/Bu58MxqWgeMvjzPbv8AZbDTNL8G6B5ke02/kxfbtSQZ6hru7DfUHrX6ZV8t/wDBGHwEngP/AIJwfDppbcLea7bXetahNjBnkuruaRHPv5RiX6KK%2BpK4OGsN9UyKhDq4qT9Za/k0vkffcdRjheJamW0/gwUaWEhbblwlKnh9PKU6dWf/AG/fe4UUUV7h8gFFFFABRRRQAUUUUAFFFFABRRRQAUUUUAFFFFABRRRQAUUUUAFFFFABRRRQAUUUUAFFFFABRRRQAUUUUAFFFFABXjP7L/8AyW/9o7/ss1j/AOoV4Xr2avGf2X/%2BS3/tHf8AZZrH/wBQrwvQB7NRRRQAUUUUAFFFFABRRRQAUUUUAFFFFABRRRQAUUUUAFFFFABRRRQAUVzvxc%2BKXg34H/C3xF8Y/iHfva6F4W0W51TVp4oWlkW3giaR9iLlpHIUhUUFmYgAEkVy/wAEf2ltL%2BNNh4ntpfhZ4s8KeI/B13HBr/gzxPFZf2lAZbWO6t3U2d1cW8qSxSDYyTMA6ujbHjdVAPSq8Z8cf8pC/hf/ANkZ8ef%2BnbwhXR/szftF6R%2B034AvfHWmfDvxL4Ul0zxJqOh6noPi2O0W9tbuznaCUN9juLiEqWXIKyE4PIByBznjj/lIX8L/APsjPjz/ANO3hCgD2aiiigD85f8AgoZ/wSF8e3A1T4y/sGaktheSauuv3Pw9WYWyQ6smCNR0icY%2BxXJ2jdFkRyYHIKRqPWP%2BCX3/AAUwsv2qdAf4EftARjwx8avC2601/wAPapB9jm1Tyh81zDC4BD4BMsIGUILABCMfYVeBftn/APBOX9nz9tDTRrXibSn8O%2BObBVfw98RPDw8jVNOmjIaJjIhUzopA%2BRzwCdjRsQ4%2BcqZPWy/FvGZbo38VNu0Zdfdf2JLW2nLq00kzWljs0wuUrKqLjPDKbnCnUbSozm/flRmlKVONR61aTjKjOSVRQp1U5z99or8qof29/wDgqF/wTV%2BItt8Cv2wfB2j/ABJ8PSXHkeGvF%2Bp3/wDZz6vEOgi1Nh5BkC5Zo7pRLkY3ncpP1b8O/wDgsL%2Bx7r2qQ%2BD/AIz6nr3wk8TSKC%2Bg/E3Q5dO9PnW5w0BjOQQ5dcgg4rXC8R5ZiJOnUbpTTs41FytPtd%2B6/L3td1cxzWGL4fdJZvRlh1VV6cp29lVXelXi5UaiT0ajUUovSdOEtD6oorM8JeNPB3j7RIvEvgTxZpmtadOMwahpN/HcwSD/AGZIyVP4GtOvdjKMldO6CMozipRd0wooopjCiiigAooooAKKKKACiiigAooooAKKKKACiiigAooooAKKKKACiiigAooooAKKKKACiiigArxnxx/ykL%2BF/wD2Rnx5/wCnbwhXs1eM%2BOP%2BUhfwv/7Iz48/9O3hCgD2aiiigAryD9tf4b%2BPviH8J9Ivvhl4ZbXdY8J%2BP/DvieHw6l3DA%2BrRafqdvcT20ck7pEsxhSQxea6RmVYw7opLr6/RQB8n%2BFfgT478T/s7fFDw98ZP2fvGdtd%2BO/G95440/QPDmv6MupaXcJfwSadbwzte/Zl1KI2Freks5tBLJs86UBs%2BYQf8E9/2w/HPwo8b%2BLP%2BFtSaVrfi34k6h4zk8JfFjQbTX7zUZU8Oafounreto%2BoWNjBcRtYNdRrA0ltC8lqdrPaq9ff9FAHk37Ofwq%2BLvhv9i3wN8G/iJ47l8P8AjHTPAmm6Zqet%2BFNOtUk0%2B5it40IhjuzfQM6BdhZ/NRyGYABgB%2BZX/BTDxHfeE/8Agmv4S%2BCmoeNr/U7%2B/wD2i/iVe3Os6isEd1qA07xJ4h3SSrbxRQh3lniZhHGiBsbVUYFfsdX4cft6y2fxl%2BM/w8/ZrmJkc/E3x8bWNe0%2Bq/E/UrQr/vGK1fjrivmeL6sqfD9WMd58sV/29JL9D1eHcDSzXizKcBV%2BCri8LGXX3I14VamnlTw9RvyTvpc/Yn9lTwN/wrH9mD4dfDpofLbQvA2k2Mi4wd8VnEjE%2B5YEn3Nd9SKqooRFAAGAAOAKWvoqVONGlGnHaKS%2B5JfocuYYyrmOPrYur8VWc5v1nOU3%2BMmFFFFaHIFFFFABRRRQAUUUUAFFFFABRRRQAUUUUAFFFFABRRRQAUUUUAFFFFABRRRQAUUUUAFFFFABRRRQAUUUUAFFFFABXjP7L/8AyW/9o7/ss1j/AOoV4Xr2avGf2X/%2BS3/tHf8AZZrH/wBQrwvQB7NRRRQAUUUUAFFFFABRRRQAUUUUAFFFFABRRRQAUUUUAFFFFABRRRQB5/8AtV/BW6/aM/Zu8bfA7Ttej0q88T%2BHLqx07U5oTLHaXTITBM6AguiyhGZAQWUEZGc1xn7PPws/aP8AC/xQ8bfG/wCMnhrwRb6148eziutK8NeLLy7ttKtdPs1itI0mm0%2BFrp5p5buSRzHCIUaJFWYqzn3OigDwj9hb4YftL/CnR/Hem/tF%2BC/Auktr/wAQNU8SaO3grxveawCuoXUs8kE32rS7HyzFmNVZfM8zcxIj2gNn3/wx8N%2BDv%2BCm3gvxnpOpeIZrzxD8HvHEl/Dqvi7Ub60iKat4SwLa1uZ5ILIHccrbpGGwNwO1cfQ9eM%2BOP%2BUhfwv/AOyM%2BPP/AE7eEKAPZqKKKACiiigDC%2BJPwy%2BHvxi8F33w6%2BKfgzTtf0PUovLvdL1S1WWKUdjhujA8hhgqQCCCAa%2BN/G37BH7SH7MOjT6R%2Byfc6D8XPhaJGkl%2BAnxdjjuktYz1j0y%2BnDeX1IWOb5BySZGNfctFcGNy3C45qU1aa0UlpJLts013jJSi%2B3U%2BoyLi3NMiw1TBcsK%2BEqO9TD1oqpRm9ruD1hO2iqUpU6iX2mvdPzF%2BG/w2/wCCRPxf%2BIEnhLU/CHjD9mD4tlgl74ePiS88OXSyE4H2Z2c2kqE52bFVmGDs5FfQSfsDftp/D9AfgJ/wVY8ex28f%2BptPiJ4bsfEZkXsrTS7G/wCBAZr6G%2BNn7PHwO/aO8LN4M%2BOnws0XxRp2D5UWrWSyPATwWik4eFv9pGVvevnEf8E5/wBoT9nP/S/%2BCfv7aGveHNNhObf4dfEZDrmhBe0MLv8Av7OPpym9%2BvPNeE8png3d0FNfzUm6U/nBSjCT/wALV%2B3QufCHhJxHJ1MvnLKa7%2BxN1JYdv%2B5XoWq01fZV8PUS61Ha5aGk/wDBbbwMNlj4u/Z78dW0fV9TsNV0y8lHsIcwqfrxR/w07/wVj8Jjb4p/4JmeHvEiL/rLnwr8X7K3GPVY7pCx%2BnWoF/bv/bP%2BAI%2Byftm/sB67dWMHE/jb4NXQ1uxcd5Ws2IuLeMdSXYnHb19I%2BC3/AAUv/YX%2BPksdh4C/aP8AD0WpO2w6Lr9wdLvRIDgxiG7EbOwPB2Bhx1NaUqmDlNU4YyrTl/LNpP7qsNflKXqefj/CHjXLsM8XhpVq2HX/AC9w9Sni6SXnKnCq4%2BlSNN99nbz/AP4eR/tC%2BHD/AMXJ/wCCV3xttdv%2Bs/4Ri2tdZx9PKdN1A/4LCfBrTh/xW/7L3x%2B8Mkf6wa78KbiPZ9fLd6%2BtI5ElQSxOGVgCrKcgj1pa9P6nmkfhxV/8VOD/ACcT4n6hnUPhxt/8VKm/xTj%2BR8lD/gt3/wAE77L/AJGn4m%2BIdCI%2B8NW8A6sm367LZq0rH/gtN/wTE1EA2/7VenLnp5%2BganF/6HbCvqMgEYIrOvvB/hHVM/2n4W064z18%2BxjfP5ij2OdratTfrTkvyqB7DiKO2IpP1pSX5VTwK1/4K5/8E3Lz/Vftb%2BGRn/nqJ0/9CjFXB/wVZ/4J0Hp%2B174N/G/b/wCJr1u6%2BCXwZvs/bfhH4Ymz183QLdv5pVQ/s6fs%2BN974E%2BDT9fC9p/8bo5M8/npf%2BAz/wDkg9nxIv8Al5R/8Aqf/JnlNx/wVl/4JxWv%2Bs/a78JnH/POeR//AEFDWTqX/BZr/gmVpOftX7V2kvj/AJ9tH1Cb/wBF27V7jb/AH4EWn/Hp8FPCUWOnl%2BG7Vf5R1rab8P8AwHo2P7H8E6RaY6fZtNijx/3yoo9nnj/5eUl/25N/%2B3oPZcSP/l7RX/blR/nUR8xN/wAFwP8Agm5csU8PfGnVtXYHG3TPAmsPk%2BnzWq03/h8F8Ita4%2BGH7K/x%2B8abv9W/hr4Vzuje%2BZXjwPevrVVVFCIoAA4AHSlo%2Br5xLfERXpS/%2BSmw%2Bq5/P4sVBf4aP/yVRnyUf%2BClHx61X/kVP%2BCWPxzmz93%2B19PtbD898jYpP%2BGuv%2BCn/iv5fBH/AASsj0uFvuX3iv4vadHj/egjTePzr62oo%2BoY6XxYufyjTj/7bIP7MzKXx46f/bsKUf8A22R8lf8ACQf8FufFn/IM%2BH37OnhOJvvf2zqur38yD2%2BzgIT9eKP%2BFUf8Fmta/wCQn%2B1j8HNEz1/sfwLc3O36faGFfWtFH9kxfx16r/7iNf8ApMUH9iRl8eJrS/7itf8ApMYnyV/wzZ/wVuu%2Bbj/gpb4VtPa1%2BDdnJ/6HJQf2dP8AgrpZjdbf8FHPB14R0W8%2BEFtGG9iY5OK%2BtaKP7Hw//Pyp/wCDZ/5h/YOE/wCftb/wdU/zPkk6P/wW68IfNp/jH9nTxfAn3hqen6vYXMg/2fJJjB%2BvFJ/w1T/wVP8AAvHxC/4Jm6X4kgT/AF2o%2BBvinZjHuttcp5jfTNfW9FH9mVIfw8TVXrKMv/SoP8w/sarD%2BFi60fWUZr7p03%2BZ8kj/AIKx2fhU%2BR8a/wBhH9oHwg6/6y7l%2BH5vbLPos8Eh3f8AfNL/AMPuv%2BCemn/L4z%2BI3iTw4/Qx634A1ZGB9P3du9fWtFH1bN4fDiYv/FTX/ts0H1PPofBi4v8AxUV/7ZUj%2BR8nw/8ABcP/AIJbz/c/akjH%2B/4P1lf52Yq1H/wWt/4JgyDcv7VViP8Ae8OaoP52tfUM1jZXH/HxZxSf78YP86rSeGPDUp3S%2BHrFj6taIf6Ueyzv/n9T/wDBcv8A5YHsOI/%2Bf9L/AMFT/wDlp8yTf8FtP%2BCX0Cln/aotCB/c8Mas38rSqbf8Fwv%2BCbl3%2B58LfGfV9duCcR2mkeBNXeSQ%2Bih7VQT%2BNfVUXh/QYGDQaJaIR0KWyjH6VbACjaowB0Ao9jnb/wCX1Nf9w5frUD2HET3xFJelKX61T5JH/BWO08S/L8JP2B/2ifFKN/q76H4cm1tG9P3s0ox%2BK0H9v/8AbRf/AImkH/BJn4iHSl/1s0nizTluwP8AZtfvN9M19bUUfUsyl8WLfyhTX58wf2dm8tZ41r/DTpJfjzP8T5JX/grd4X0X/Q/iR%2Bw/%2B0V4bvV6wXfwxeWN/UxyRSkOvvgVV%2BCn7YngT9rL/goX4MHgr4d%2BOtAOgfBnxl9qHjXwrLpnn%2Bfq3hXb5PmE%2BZt8lt2Pu7k/vV9gV4z44/5SF/C//sjPjz/07eEK1oYfMKdVOpXUo9uSKb%2Bal%2BhvhsLmtKsnVxKnBbr2cYt/9vKWn3ans1FFFegeoFZvjDxl4Q%2BHnhe/8ceP/Fem6Houl2zXGp6xrF9HbWtnCoy0ksshCRoB1ZiAK0q8Q/b%2B8N%2BItd%2BCejatonhTUtftPDfxL8K6/wCIND0fTpLy6vNNsdatLm4MVtErSXLwrH9pEKK0kn2faiu5VSAemaZ8YfhHrXwyHxr0f4peHLvwadPe/Hi221y3k0w2iAl7j7UrmLylCtl920bTk8Vz2rfte/sm6D8NNO%2BNGuftQfDuy8Haxdta6T4su/GthHpl7Ou/dFDdNKIpHHlyZVWJHltx8px85eGvh7afEn9k/wCLfh7xfoXjrwjp3if4l3/jzwnbf8Ky1S6u7O1i1mC7tZX00W/mTNcXtm95Jp2FuXhuyHjjaQ4zvgxd/FfwX8G/i949%2BMfj/wCK3h%2B4%2BLXxZk1Xwj4l%2BHHwHvm1SytYtE0iyaUaFcWOqS6ZFNPp90VW9iZ2RxIzJLMMAH25pupadrOnW%2BsaPfwXdpdwJNa3VtKJI5o2AZXRlJDKQQQRwQc1%2BHfwSZfib/wWJk8Pa/GPs2h/tM%2BJX02ZgW/d6ZrWv6pMAPUS3UfA5JI71%2Brv7HvgP4r%2BCf8Agn/8Nfhrpug6Z4D8W6P8ONK0%2BHTtb02fUbfSJobWOMJNAt3HJIQq4aP7TlWJHmNtyfzW/wCCZHw88UX3/BUXxdJ47vbLUdW0P4l/EfxLe6np2nPa2000/jL%2Bx2aKF5ZmhRnt52WNpZGVWwXfBY/NcSUnXWEpdHWhf5Xf6H1fA2HlLiiON6YShja/o44OtSpv/wAGYqJ%2BwP8AwmGk/wDPpqn/AII7v/41S/8ACYaT/wA%2Bmq/%2BCO7/APjVfO3j7/gsj/wTe%2BF/jvWvhp45/aN%2Bw634d1a50zWLL/hENYl%2Bz3VvK0Use%2BO0ZH2ujDcpKnGQSOayf%2BH5f/BLT/o6H/yydb/%2BQq9GWeZLCTjLE001/fj/AJno0fC3xMxFGNWlkmLlGSTTWHqtNNJppqFmmmmn1TT6n0//AMJhpP8Az6ar/wCCO7/%2BNUf8JhpP/Ppqv/gju/8A41Xzt4B/4LI/8E3vih470X4aeBv2jft2t%2BItWttM0ey/4RDWIvtF1cSrFFHvktFRNzuo3MQozkkDmu%2B/b%2B%2BMHxM/Z9/Ym%2BKfxx%2BDdpps3ifwl4H1DVdHXV5mS3WWCFpN77Y5N21QzBNuHZQhZAxdevC43B42Llh6kZpb8rTt62Pn884Z4k4YrQpZxgquGlNNxVWnOm5JOzaU0m0no2uuh6X/AMJhpP8Az6ar/wCCO7/%2BNUf8JhpP/Ppqv/gju/8A41Xz3qf7bnxt8K/EPxz4L%2BIXwK8CaFp/wy%2BHlp4m8c%2BJ7v4qXRsbd7uLVGt7a2xo4lnUPp8YlldIiiXBaOOZ0EUnM/Db/gpVq/xV1TwzoerfCfV/C%2BtxfGiXwd4h0hZby2hkQ%2BD9Q1%2BGfbrGj2l68LpDEm37PaSCVAyyyQqVuOk8M%2Bqv%2BEw0n/n01X/wR3f/AMao/wCEw0n/AJ9NV/8ABHd//Gq%2Bef2Sv2%2BfiT%2B0Pp%2BiXHjn9mD/AIR%2B78WfCbRfiD4T0vw941h1We606%2BYI8E5uILKK3uIS8TFQ8iOj5DhlMddT%2B1X4s%2BKupfFr4X/s8fC34r6h4Ebxtdaxdat4r0bTbG6vYrewshIttAt/b3FurSTTQszPE58qCVV2swkQA9d/4TDSf%2BfTVf8AwR3f/wAao/4TDSf%2BfTVf/BHd/wDxqvnKD9oT9pH4n/8ABMjwh8f/AIfWlz/wnOu6R4dm8Q3fhXQ1vbi3tJb%2B0i1jUNOspFkE8qWZvLm3gKy7mWNdk5xG/kvhr9qv9qf4i%2BHH8P2Hjb4u2Phjwt8Udd8N678RdD%2BElvd%2BLLyOPTLG%2B0k3OknTJEto5WvpYpZBYxFTawiQWxlkKgH3P/wmGk/8%2Bmq/%2BCO7/wDjVH/CYaT/AM%2Bmq/8Agju//jVfntrP/BQb9sCT4MeAv2sdfsvGOjabq3wu8CeIdK8NeFfAkN/ofiO%2Bv7nGuW%2Boag1vO2n%2BXC8JtgLm2z5qMhvGJhX6KN38cLX/AIKQaN8MfDX7UHi/VvCtr4K1PxZ478I6rpGgmwsYrm4Wz0azhlg02K8VXkTUpVZ7l2I0zaxfe1AH0Rpet6drHmLZSSb4SBLFPbvE6Z6Eq4DAHnBxg4NW6yrT/kdtQ/7Bdn/6Mua1aACiiigAooooAKKKKACiiigAooooAKKKKACiiigAooooAKKKKACiiigAooooAK8Z/Zf/AOS3/tHf9lmsf/UK8L17NXjP7L//ACW/9o7/ALLNY/8AqFeF6APZqKKKACiiigAooooAKKKKACiiigAooooAKKKKACiiigAooooAKKKKACio729s9Os5dQ1C7igt4ImknnmkCpGijLMzHgAAEknpWB8LvjF8I/jh4UHjz4LfFPw54v0Np3gXWvC%2BuW%2BoWhlTG9POgdk3LkZGcjPNAHR14z44/wCUhfwv/wCyM%2BPP/Tt4Qrv/AIWfGz4M/HLR7rxD8E/i34Y8Y2FjfNZX194W1%2B31CG3uVALQu8DuqSAMpKEggMOOa4Dxx/ykL%2BF//ZGfHn/p28IUAezUUUUAFFFFABRRRQAUUUUAFec/Gj9kT9l/9oiJ1%2BNnwF8LeI5nXb9u1DR4jdIP9m4UCVP%2BAsK9GorOrRo14clWKkuzSa%2B5pnZgMxzHKsSsTgq06VRbShOUJL0lCUX%2BNvJnyQ//AASJ%2BHXw%2BY3X7J37TPxb%2BErISYNL8PeMZbvSwf8Abtbrf5gHoXFIPhf/AMFkfhGMeC/2mfhT8V7SL/ll488JTaNdyJ/dV9PJQvjjc5wepr64orzf7FwMP4HNT/wSlFf%2BA3lH/wAlPtf%2BIm8UYnTNPY41f9RNClWk/wDuLy0q3z9s35s%2BSP8Ahtv/AIKAfDb938c/%2BCXXiC9t4/v6t8NPGVnrHnDuUtMLKvsGbJp8H/BZ39kXQZVtfjf4Z%2BJfwwnZgrQ%2BP/h1fWxRvQmBZgOffFfWlNmhhuYmt7iJZI3Uq6OuQwPYg9aPqeZ0/wCFir/44Rl%2BMXBh/rJwNjf99yJQffDYmtS%2B6FaOJh%2BNvKx4z4D/AOCjH7CHxL2L4R/a28BSSy/6u2vfEcFpM3sI7hkcn2xXreg%2BJfDnimxGp%2BGNfstRtm%2B7cWF0kyH/AIEhIrz/AMefsWfsg/FAu/xA/Zg8A6tLJndc3fhO0M34S%2BXvH4GvJNe/4Iuf8E6tTvTrHh/4I3XhrUP4L/wv4q1GydP91Vn2D/vmjmz2nvCnP0lOD/FSX4i9h4V4v4cRjcM/71LDYiK%2BdOpQnb/t2/kfVFFfJX/DqP8A4Rr958Jf%2BCgH7RPhrb/qrP8A4WH9ss0/7YzRc/i1H/DGX/BSHwp83w9/4KvajcxL92y8WfCrTb3f7NNvDj8BR9ezGHx4SX/bs6cvzcWH%2Bq3B2I/3XiCkvKthsXS/GMa8fnsfWtFfJf8Awg3/AAWt8L/8gP46fALxRt6f8JJ4Z1OyL/X7ITj8KP8AhaH/AAWd8M/8hz9lz4L%2BJ9vX/hG/G13Zb/p9rU4/Gj%2B1lH48PVX/AG5f/wBJk/yD/iH8qv8Au2bYCp/3NKm/urUadvnI%2BtKK%2BS/%2BGyP%2BCl2hceLf%2BCSt3NGvW50H4x6Vc7vpH5YYfiaP%2BHkvx70b/kc/%2BCWfxxgx9/8AsOxtdS/Ly5FzR/bWAXxc8fWnUX/tjD/iGPFk/wCD9Xq/9e8Zg5/liYn1pRXyX/w9w8H6fx4u/Ya/aW0HH3m1T4SyBR75SZsj3o/4fQ/scWX/ACNOk/EjQsfe/tb4b6gm367I2o/t3J%2BtZL15l%2BcUH/EKvEZ/BllSf%2BB06n/puvUPrSivlGy/4Ldf8Ex7qX7Nc/tJNZTfxQ3/AIP1eIr9SbTH610Gmf8ABXT/AIJuatj7L%2B1r4aTPT7SlxB/6MiWrjnWTz%2BHE0/8AwOP%2BZz1vDHxIw6vVyXFr/uXrfpBn0dRXiOm/8FKf%2BCf2q4%2By/tj/AA6XPT7T4pt4f/RjLW9p37b/AOxbq%2BP7K/a8%2BF9znoIPH2nOf0mreOYZfP4a0H/2/H/5I8mtwfxdh/4uW4iPrh66/wDcJ6hRXFWH7Sf7Ouq4/sv4%2BeCrnPT7P4qtHz%2BUlbFn8UvhlqOP7P8AiLoM%2Benk6vC38mreNehL4Zp/Nf5nmVcqzSh/Ew9SPrTmvzgjdoqra67ol9/x5axazZ6eVcK38jVoEEZByK0TT2OKUJwdpK3roFFFFMkKKKKACvGfHH/KQv4X/wDZGfHn/p28IV7NXjPjj/lIX8L/APsjPjz/ANO3hCgD2aiiigAooooAKKKKACvzR/4JXac3ij9t/wDak8aSWoSPwr8U73w/ZyBQA4ufG2sX0uMf7ZUn3Ir9Lq%2BE/wDgkn4NfTbD9pnx/dQ7Ztc/bJ8W28bY%2B/Ba%2BISiH/vuSUfhXm46k6uKwy6Kbl90JW/Fn2fC%2BMp4HJM6m/inh4Uo/wDcTFUOa3rCm0/I%2B7KK%2BYvH/wDwU1/4QLx3rfgX/h3z%2B09rX9i6vc2H9saB8J/tNhf%2BTK0fn20v2kebC%2B3ej4G5WU4GayP%2BHsP/AFjU/a0/8M3/APdVTLOssjJxdTVf3Z//ACs/M5cQ5NCTjKrqtPhqdNP%2BfR9aVi/Ef4eeDPi58Ptc%2BFXxG0GLVfD/AIl0i50vXNMnZlS6tLiJopoiUIYBkZhlSCM5BB5r588A/wDBTX/hPfHei%2BBf%2BHfP7T2i/wBtavbWH9sa/wDCf7NYWHnSrH59zL9pPlQpu3u%2BDtVWODivZv2k/GHxO%2BHnwC8X/EH4M%2BHLTWfE%2Bg6Bc6lo%2Bi3sLumpSQIZTagI6EPKqNGjbsK7qxDAFT14bGYbGRcqMrpb6SX/AKVGP6nbg8fg8wi5YeXMlo9JLz%2B1GP4XMaD9jX9nhfCvinwdqfhDUtXs/Gvhu30HxVL4i8V6nqd1qVhB9p8mOS5u7mSfen2ufEocSjcvz/Im3O8D/sFfstfD3Ul1zw/4C1KbUh4uHiiXVta8Y6tqV5cauNIm0YXc1xeXUss7DT55bfEjMu0qcbkRl8N8R/8ABR/4m/Ejwtc%2BMf2XG0PVbDxH47m0j4USxeEl1RvEGnWGkLdareyNc63pVtDHFd%2BfAHa4XaLNwElaQeXxPg39ur4jfFzxHonx4svtNrp3jz4Zfs76rH4UbX737DpU/iLxdrttfyQfZp4tzmLyUZjlJ1tYVmSWJfKPSdh9h%2BGP2TvgR4JsdEsPB3hO90pfDnga08HaJNp3iPUIZrTRbV43gtVlScOdpijzIWMjAEM7BmB0fjf%2Bz18Kf2idE0/Q/ilo%2BozDSNRN9pF/oniK%2B0i%2BsbgwywM8N5YTQ3EW6GaaJwkgDpIysCpIr5N%2BCf7VP7UHxu/ak%2BEHjDU/FXhH%2BxPHfwt8f634c%2BHulXV7p7Wslnf6NBbQatKZrhLqWPzSjXCW0RtpHuEWKTOT7d%2B2/q3iSfTPhR8N5fFWq%2BHdI8d/Few0PxnqXhvXbjT7qGzOn390kEN7btFPb%2Bfe2tna%2BZG0cjLcFVKlxQB6FJ%2Bzv8LE8Bj4YaNY6xougReHLDQrLTPDPivUdKj0%2BxsyTbpafY7iI2bqDtMsBSV0REZ2WNFXAv8A9ir9n2%2B%2BFVn8FotJ8TWPh%2B0v7m9li0f4h63Y3WoT3LO1y99d294lzqBmaR2k%2B1SSiRmy%2B4gEeWfCLUf2hfin/wAE2/G%2Bh/Cf4k3c/jSz1Lx34c8A%2BLNY1UtcXFvp%2Bvapp%2BmXEl5KHLSm1toB9rcOXbE7b9xz5r8O/H9rpfwu/aPi%2BP8Ao3xc8PfD34P3dnrml6bqPxq1OfxHaTroa3V3p0mq6Zqks0u5jHMlqbycf6dFwuY4ogD6r8S/slfAfxb4k8NeItb8LagYvCEFjF4e8PWvifUbfQ7YWUvm2bNpMVwthNJBJteKSSBnjaOIqQYo9vT%2BHvhV4C8K/EDxH8U9D0Hytf8AFkdlHr%2BpPdSyNcx2kbpbRhXYrEiCSQhIwq7pZHILOzH83v2jdC/a5%2BDPwC8IfCqH43%2BK77xb4C/Zm1rxj4%2Bu9Q%2BMWsaXc6RqZmhlfVorlZJH8QPayfaoodNv5EtTHHGs08QkXd6Z4n/a78eeLf8Agph8IdGvLr4t%2BH/Cy%2BJ77w5pegH4eeILXSvEscvh66uZdVup0tBZXS/avsyRIZHFqlnPcMUWZvLAPuK0/wCR21D/ALBVn/6Mua1Ky7T/AJHbUP8AsFWf/oy5rUoAKKKKACiiigAooooAKKKKACiiigAooooAKKKKACiiigAooooAKKKKACiiigArxn9l/wD5Lf8AtHf9lmsf/UK8L17NXjP7L/8AyW/9o7/ss1j/AOoV4XoA9mooooAKKKKACiiigAooooAKKKKACiiigAooooAKKKKACiiigAooooA8i/b7%2BH3jT4rfsUfFP4cfDzRpdT1nWfA2o2tlpEDhX1MtA26zUsQoM67oRuIX95yQMmvDLPR/G/xx8O/tP3nwc8C%2BMfCg%2BLng9tK%2BHY8ReCtS0SSfVrbw79lkv5Y7qCNrIb5rS2R7gRGX%2Bz2Me9EVj9oUUAfL37D1vc%2BLPj34z%2BMPhf4OeJ/A/hCb4U%2BCPDFppPirwndaLMdV02TWpLpEtrqONnjhgvrC3FwimKUxFUd1hBrav9N%2BK9p/wU28F3njbxp4e1DQrj4PeOD4a07SvDE9nd2CDVvCXmLc3Ml7Ml2TlMFIbcLtOQ24bfoevnD9o/V/jXo/7eHwnn%2BB3w/8LeItSb4R%2BO1u7TxX4wudFgjg/tTwkS6S2%2Bn3rO%2B7aNhjUYJO/ICkA%2Bj6K8Z/4Tj/AIKF/wDRr/wZ/wDD8at/8y9H/Ccf8FC/%2BjX/AIM/%2BH41b/5l6APZqK8Z/wCE4/4KF/8ARr/wZ/8AD8at/wDMvR/wnH/BQv8A6Nf%2BDP8A4fjVv/mXoA9mor5x0n9o79u3WPjPr/wOt/2UPhIuqeHfC%2Bka7eXL/HXVPIkg1G51K3hRCPDG4uraXOWBUAB48FiWC9R/wnH/AAUL/wCjX/gz/wCH41b/AOZegD2aivGf%2BE4/4KF/9Gv/AAZ/8Pxq3/zL0f8ACcf8FC/%2BjX/gz/4fjVv/AJl6APZqK8Z/4Tj/AIKF/wDRr/wZ/wDD8at/8y9cv4B/aO/bt%2BInivxv4Q0f9lD4SQ3HgPxRFoWqyXPx11QJPPJpWn6mHi2%2BGCSnk6jCpLBTvRxjADMAfR1FeM/8Jx/wUL/6Nf8Agz/4fjVv/mXo/wCE4/4KF/8ARr/wZ/8AD8at/wDMvQB7NRXjP/Ccf8FC/wDo1/4M/wDh%2BNW/%2BZej/hOP%2BChf/Rr/AMGf/D8at/8AMvQB7NRXzj8Iv2jv27fjL4Uu/F/hz9lD4SW1vZ%2BKNb0KSO9%2BOuqK5n0vVbrTJ3G3www2NNaSMhzkoykhTlR1H/Ccf8FC/wDo1/4M/wDh%2BNW/%2BZegD2aivGf%2BE4/4KF/9Gv8AwZ/8Pxq3/wAy9H/Ccf8ABQv/AKNf%2BDP/AIfjVv8A5l6APZqK8Z/4Tj/goX/0a/8ABn/w/Grf/MvXL/BH9o79u348fBjwh8cfCv7KHwktdL8Z%2BF9P13TbbUPjrqizwwXdtHcRpIE8MMocLIAwVmGQcEjmgD6Oorxn/hOP%2BChf/Rr/AMGf/D8at/8AMvR/wnH/AAUL/wCjX/gz/wCH41b/AOZegD2aivGf%2BE4/4KF/9Gv/AAZ/8Pxq3/zL1y/xu/aO/bt%2BA/wY8X/HHxV%2Byh8JLrS/BnhfUNd1K20/466o080FpbSXEiRh/DCqXKxkKGZRkjJA5oA%2BiL3T7DUYvI1CxhnT%2B5NEGH5GsDU/gx8Htaz/AGz8KPDV3nr9q0K3kz/30hrz7/hOP%2BChf/Rr/wAGf/D8at/8y9H/AAnH/BQv/o1/4M/%2BH41b/wCZeolTpz%2BJJ%2BqT/NHRRxeLwzvRqSj/AIZSj%2BUkdDqX7H/7JWs5/tf9lz4dXWev2nwTYSZ/76iNYOof8E8f2DNUybr9jP4YAnqYPA9jEf8AxyIUz/hOP%2BChf/Rr/wAGf/D8at/8y9H/AAnH/BQv/o1/4M/%2BH41b/wCZesJYHAz%2BKlB/9ux/%2BRPWo8VcU4f%2BFmGIj6V66/KsvyMbUP8Aglf/AME7dSz9p/ZB8Frn/n30zyv/AEAisi8/4I8f8E1L/Pn/ALJ2hLn/AJ4315H/AOgTirHxd/aO/bt%2BDXhS08X%2BI/2UPhJc2954o0TQo47L466ozifVNVtdMgc7vDCjYs13GznOQisQGOFPUf8ACcf8FC/%2BjX/gz/4fjVv/AJl6wllGUy3w8P8AwCP/AMienS8RPECh/DzfFL0xFf8A%2BWs88uv%2BCJf/AAS/vP8AW/ssWo/65eKNWT/0G7FVT/wQ5/4JixnNl%2Bztc2x/6YeONaH87w16b/wnH/BQv/o1/wCDP/h%2BNW/%2BZej/AITj/goX/wBGv/Bn/wAPxq3/AMy9ZvIskf8AzDU//AI/5HbHxV8T4KyzzF/%2BFFX9Zs8y/wCHJH/BPaL/AI8Phz4ktcdDb%2BP9WGPzuDSH/gi5%2BxlD/wAgy/8AiLZen2X4j6iMfnIa9O/4Tj/goX/0a/8ABn/w/Grf/MvXL%2BPv2jv27fh34r8EeENY/ZQ%2BEk1x488US6FpUlt8ddUKQTx6VqGpl5d3hgEJ5OnTKCoY73QYwSyr%2Bwsl/wCgeH/gNvyaK/4iv4mPfOMQ/Wq5f%2BlRkc1/w50/Z6g/5Bfxy%2BNdiOwtPijdjH5g0f8ADoj4bxf8g79sf9oyz9Ps3xZmGPziNem/8Jx/wUL/AOjX/gz/AOH41b/5l6P%2BE4/4KF/9Gv8AwZ/8Pxq3/wAy9H9hZR0or/yZflNB/wARU8RHvmVR%2Bqoy/wDSsPI8y/4dN2MX/IP/AOCi37VVqOyw/GA4/W2NUvgr%2Byrefsyf8FC/Ba3P7THxT%2BIq618GfGWwfEzxUNTOn%2BTq3hXP2ciNPL8zzRv67vKj6befWv8AhOP%2BChf/AEa/8Gf/AA/Grf8AzL1Q8D%2BB/wBqzxj%2B1Z4c%2BN3xu%2BHHw98M6N4Z%2BHviHQ4YfCvxDvtauru61K%2B0S4RmS40ixSKNE0uUFg7sWlQBcZI2oZVl%2BGqqpShaS/vT/Jza/A8/NOPuL87wM8HjsVz052uvZ4dXs0170MNTmtUtprs7q6futFFFegfHhXz9/wAFLjpg/Zrtf%2BE08v8A4Qr/AIWF4X/4WR9o/wCPf/hHv7ZtPtv2rPH2Py/%2BPnd%2B7%2Bzef5n7vfX0DRQB8F%2BCLT4X%2BPv2Avi18L/h/wDGXwV4W8CR%2BO9S1bwE2ra1Ha6IfCMOsRSPE7I37nQ7qeDULMTRgwi1mPlBowinzDQ/iv8Asq/Df9lXxx4g/aZ%2BD3wO1jwh4j%2BOsth%2Bzd4JOpWsngppJNB05Jnsby%2BghgTT476PVppb4QRqCLpoEcyQpJ%2BodFAHk/7Omi%2BJ/h9%2BxX4E8MfC7x9onxS1XRPAGl2Wl%2BJ7/wASPDYeJJIbWKP7Wb2KO7cRy7S4kCTsQRksSWrzv/gnz4e1Hw/%2Byvr%2BseI9HtLDV9T%2BPnjvVvEdppuoPeW9vc/8J1qfnLFO8MLzRIseBI0UbMqAlF6D6cr5K/ZK8Wftnaf8PfFFn8MfgH8MNX0JPjT8Rf7P1HXvi7qOm3cy/wDCZ6yWMltFoFykRDbgAJnyADkE7QnFNpvoXGpUhCUE9JWuu9ndfc9T6g/4TnwT/wBDhpf/AIMI/wD4ql/4TnwT/wBDhpX/AIMI/wD4qvLf%2BE4/4KF/9Gv/AAZ/8Pxq3/zL0f8ACcf8FC/%2BjX/gz/4fjVv/AJl6ZB6l/wAJz4J/6HDSv/BhH/8AFUf8Jz4J/wChw0r/AMGEf/xVeW/8Jx/wUL/6Nf8Agz/4fjVv/mXo/wCE4/4KF/8ARr/wZ/8AD8at/wDMvQBqX3wM/Yo1T4caT8HdT%2BDvwtuPCOgXv2zQvCs/h7TX03TbndI3nQWxTyoZN0sp3ooOZHOfmOdDT/hx%2ByjpNra2WleA/h7bQ2VppNpZQ2%2Bl2KLbwaXPJcaZEgCgIlpPLLLbqMCCSR3jCsxJ8z%2BCP7R37dvx4%2BDHhD44%2BFf2UPhJa6X4z8L6frum22ofHXVFnhgu7aO4jSQJ4YZQ4WQBgrMMg4JHNdR/wnH/AAUL/wCjX/gz/wCH41b/AOZegDVsfgf%2BxVpfinW/HOmfCD4XW%2Bt%2BJYLqHxHrEHh/TUutVjusfaUuZQm%2BdZdq%2BYHJD4G7OK6DxvpXwA%2BJngi5%2BGXxI03wd4g8N3kKRXfh7XIbS7sZ40ZWRHglDRsqsqkArgFQR0FcV/wnH/BQv/o1/wCDP/h%2BNW/%2BZej/AITj/goX/wBGv/Bn/wAPxq3/AMy9AHVDwT%2BzCPD1v4RHhHwGNJtPDc/h610v7BZfZ4dInEazacke3atrIIYg8AHlsIkBU7Riv4e%2BGv7J3hH4bj4N%2BFPAHw70zwgs4nXwpp%2BlWEOmiUTCYP8AZkURbhKqyZ253qG6jNea/G79o79u34D/AAY8X/HHxV%2Byh8JLrS/BnhfUNd1K20/466o080FpbSXEiRh/DCqXKxkKGZRkjJA5rqP%2BE4/4KF/9Gv8AwZ/8Pxq3/wAy9AHSfE74dfsp/Gy70q/%2BM3gT4e%2BLp9BuDPoc3ifS7G/fTpSVJkgM6sYWJRDuTB%2BRfQVvapf/AAi1zV9M1/Wrzw3eX%2BizyT6Ne3UlvJNYSyRPC7wu2WiZopHjJUglHZTwSK89/wCE4/4KF/8ARr/wZ/8AD8at/wDMvR/wnH/BQv8A6Nf%2BDP8A4fjVv/mXoA9M0PULHV/FOoalpV3Hc232G1iFxA4ZC6vOzKGHBIDrnHqK2q8Z/wCE4/4KF/8ARr/wZ/8AD8at/wDMvXL/ABd/aO/bt%2BDXhS08X%2BI/2UPhJc2954o0TQo47L466ozifVNVtdMgc7vDCjYs13GznOQisQGOFIB9HUV4z/wnH/BQv/o1/wCDP/h%2BNW/%2BZej/AITj/goX/wBGv/Bn/wAPxq3/AMy9AHs1FeM/8Jx/wUL/AOjX/gz/AOH41b/5l6P%2BE4/4KF/9Gv8AwZ/8Pxq3/wAy9AHs1FfOPj79o79u34d%2BK/BHhDWP2UPhJNcePPFEuhaVJbfHXVCkE8elahqZeXd4YBCeTp0ygqGO90GMEsvUf8Jx/wAFC/8Ao1/4M/8Ah%2BNW/wDmXoA9morxn/hOP%2BChf/Rr/wAGf/D8at/8y9H/AAnH/BQv/o1/4M/%2BH41b/wCZegD2aivGf%2BE4/wCChf8A0a/8Gf8Aw/Grf/MvXL6t%2B0d%2B3bo/xn0D4HXH7KHwkbVPEXhfV9ds7lPjrqnkRwadc6bbzI5PhjcHZtUgKgKQQkmSpChgD6Oorxn/AITj/goX/wBGv/Bn/wAPxq3/AMy9H/Ccf8FC/wDo1/4M/wDh%2BNW/%2BZegD2aivGf%2BE4/4KF/9Gv8AwZ/8Pxq3/wAy9H/Ccf8ABQv/AKNf%2BDP/AIfjVv8A5l6APZqK%2BcdJ/aO/bt1j4z6/8Drf9lD4SLqnh3wvpGu3ly/x11TyJINRudSt4UQjwxuLq2lzlgVAAePBYlgvUf8ACcf8FC/%2BjX/gz/4fjVv/AJl6APZqK8Z/4Tj/AIKF/wDRr/wZ/wDD8at/8y9H/Ccf8FC/%2BjX/AIM/%2BH41b/5l6APZqK8Z/wCE4/4KF/8ARr/wZ/8AD8at/wDMvXL%2BAf2jv27fiJ4r8b%2BENH/ZQ%2BEkNx4D8URaFqslz8ddUCTzyaVp%2Bph4tvhgkp5OowqSwU70cYwAzAH0dRXjP/Ccf8FC/wDo1/4M/wDh%2BNW/%2BZej/hOP%2BChf/Rr/AMGf/D8at/8AMvQB7NXjP7L/APyW/wDaO/7LNY/%2BoV4Xo/4Tj/goX/0a/wDBn/w/Grf/ADL1b/ZW%2BHPxp8H6x8UPHfx00DwvpOqePviFFrlnpXhPxLc6tb2trFoOj6YqvcXFlZs0jSadK5URbQsiDcxzgA9booooAKKKKACiiigAooooAKKKKACiiigAooooAKKKKACiiigAooooAKKKKACvlf8Aae/a0%2BLnww%2BMfizWvAPh3wfJ4Y%2BD/h/w/e%2BNTrWkXE2q6pb6vfypcwWFxHcRpZeRbWcdxmSKcXMhSMiHy/NP1RXjPxn/AGIfhx8bvikfiZrnjnxVpcWo2ukWvi/w1o11app3imDS72S9sYr5ZbeSYLHNNLn7PLAZY5DFMZYwqAA9mooooAKKKKAPmPw5%2B0r8TIf2/wDxR8H/AIjax4e8J%2BG18QWmieDItR%2BEWspdeMYBoEGo4g8RtdrpzSx3dzqAFoIXk8u0mAUFmkX6cryvxZ%2By1B4/%2BMmkfFPx78b/ABrq%2BleHtdj1rQPAFwdMi0ax1CO3eCOcNDZJey7PMkkVJrqSMSPu2fIgX1SgAooooA8X/wCCgvxd%2BOH7P37I/jT49fAK98KR6x4J0K71y6g8YaLc31td2lrbSzPboltdWzJK7IiiQuVQFiUfgV5/48/a0%2BLngv48eLdT8KeHfCEXw88IfGPwj8PvGVnNpFwdb1XVddg0VI9Qhu0uFhjjg/tzSYzFJbyvIkM%2BJY9qCvYf2sf2cbL9rT4Ea9%2Bz7rXxV8U%2BEdJ8T2Utjrl/4QXTvtdzZSxPFNbbr%2B0uo0R1flkRZAVG115zxcH7APg6f4i2fxF8VfHHx9rrHWdJ1zxNo2oS6VFY%2BJ9c0xI0sdWvY7awiZbiIQWmFtmggY2NsXiYx5IB73RRRQAV4v8Atk/F344fBK18A%2BMfhZe%2BFP7G1D4meHPD3i%2Bx8QaLc3N1c2uq6zY6aDZyw3UKW0ka3Msm%2BRJ1JRF2ck17RXlX7V37Lb/tVeG9C8Lz/H3xv4Gt9C8SWGuo3guHR2e7vbG8gvLNpTqWn3g2xXFvG4WMIG5WTep2gA84/Z5/aV%2BJmt/tVeLfgj8UNX8PeE9Oh8U63b%2BCfCUnwi1nTLnXraF0lN/b61cXf2DUHYyTSyxW0BfkuxXDE/TleS6T%2ByiH%2BMmi/GX4j/tAeO/Gs3he7vLvwnoXiEaTDYaPdXNvJayXES2Gn20sr/Z5p4V8%2BSVUWd9oBII9aoAKKKKAPD/27vi58eP2fvg1q/x1%2BFHjHwLY6f4W0W5vL3RfFnhm9v7nxDe5RbPTLOS2vYPs81xKRbo3lXTNLPEFhY/K3n/wR/a%2B%2BM%2BufEvwV/a3gzwlpHw08b/E/wAUfDbwr4a07S5o9X0S/wBAh1bfPPci4a3mgkbw/qaLDHbxGNWtj5kmWA9P/aV/ZBg/aS8eeCPiBN%2B0D478IXPgG7ub3RbHwxFo09nJeyoI1vJoNT068R54Y/MWGQBTGJ5SPmbIq%2BA/2Gvh74D%2BMtv8XYfiL4u1KDTtd1PXtE8Ialc2X9k6VreoxvHqGqQJFapP584nuyyvM8KNfXJjij8zgA9rooooAK%2BX/wBrn48ftL/Bb4iaf4U0qHwB410fxzDrVtovw5i8H30msJa2mh3V3Jf3E4vXiurYXUVvbSQi1iB%2B3woJjIyJJ9QV4dN%2BxNcR/tH%2BK/2mtE/ar%2BJenav4t02HTrnS4YPD89pp9nDA0cNtZtc6TLc28Syu91sWba87l3Dg7aAGfsIftB%2BN/j38Pby6%2BK/j7Rr7xdpws21/w3ZfC7V/CN5oDz2yyiC5stXup7hwW3%2BXcAJHIqHaG2k17pXm/wADv2btO%2BDPifxJ8Q9Y%2BKXinxx4q8VxWNvrHifxc1gty9pZib7LapFp9ra20cUbXNy42whma4kLM2Rj0igAooooA%2BOf%2BCgn7cfxU/Yw8c/2nrmi6B4x8Ivo2o63b%2BFZfhzqdlLbppujX2pJJ/wkU10%2BmT3f2vTRssVgS6EcyygbYWkb179mj4u/HPVvip43/Z6/aOufCmoeJ/COk6HrUeteCtIubCxubHVBeRpEYLm5uXWWK4067Uv5uJEMTbIySorfHX9hLwR%2B05rV1a/H/wCLfjXxR4LuZLiRfhleSabDosUk1jNZM2%2B3so76QCO4mYJLdOgd9235EC9P%2Bz5%2BzNpHwDvNe8RXfxQ8WeOPEfiQ2cereKvGtxZvfS21pEYrW1H2O2t4ViiDysMR72eeV3Z2cmgD0qiiigAr4j/an/bK/az%2BDfxq8QfCjwd4b8OeNdTsNFuNd8MBPgf4gjk0UDUdMtUMLfbnHiaQWOqXHnf2X5TwtCVlEYmEdfbleH69%2BxbqfiXx6fidrX7XPxRm1vT4LyLwbeFNAA8KrdTQyT/ZIxpOydmjgW33Xq3TLEzhSruzkA6r9lj4sP8AGT4RweLL34maN4qv4dRurLVL7RvBl94dFtcRSsrWs2m6hcT3VnPGMK8czh8/NtUMBXo1cN8A/gL4e%2BAHhnU9G0rxTrfiDUdf1641vxJ4k8RzQNe6rfzBEaeUW8UMCYjihiVIYo41SJAFGCT3NABRRRQAUUUUAFFFFABRRRQBR8UeIbDwl4a1HxXqoc2umWM13ciJct5caF2wO5wpr5z/AGJv2k/jX4/8U6P4M%2BNnh7wZZjx18LbL4jeGYfBmlXFoNMjvLgm70%2B7M1xKLuaN7m2f7YggE7SzEwR7QX%2Blru0tb%2B1lsb23SaGaNo5opVDK6kYKkHggjjFeQ/szfsV%2BAv2YNVfV9A%2BIPi3xLLbeGLHwz4dHiy9tZhoGhWbyPb6bam3t4S0amT5pZzNcSCOLzJn8tcAHsVFFFABXC/tQePPiL8LP2aPiJ8Tvg/wCFF17xb4c8C6vqnhbQ2sZroajqNvZyy21sYYGWWYSSoieXGwdt2FIJBruqzvFuiX/iXwxqHh/S/Feo6Fc3tpJDb61pCwNdWLspAmiFxFLEXU8gSRumR8ysMggHl37FPxan%2BKHwzvrLVviF4f1nU/Duqrp15pmifDDU/Bz6GgtoJIrO40rVLme5hcI4kV28tHili2Jgb39irzz4D/s7aT8DrzxL4jufiJ4k8Y%2BJPF%2Bow3niLxT4rezF3dGG3S3giEdjbW1tFFHGgCrHCmSzsxZmZj6HQAUUUUAfLn7VH7WPxQ/Zw%2BL3jiy%2BJWjeEvEXwvsP2d/F/j220K30S4TVXbRBpaz21xcyXL280U6304CC2QqETLvlhXb/ALM/xf8Aj5qnxc8Zfs6/tLP4SvPFHhjwx4e8Sx6r4K0m5sbKSy1Z9St1tjDc3Ny5lhuNIuwZRIFkR4m8uM7lqD4x/sK%2BHfjp8dW%2BMvjz47eOZdNm8Fan4Rvvh7DBov8AYl3o2pLbfb7SQvprXpE7WkDs4ug6lCEZEZkPSfs7/su6H%2Bz7fa14jn%2BKHi3xv4h1%2B1sLK/8AE/ja5tJL02Fiki2dmPsltbx%2BVEZ7hwShkd7mV3d2bNAHp9FFFABXyJ8a/wBpf9rbwZrv7QHgS38K%2BDPFl74C8P8AhTxJ8NrHSfh/qd/Oseo6rqUIS8tYrx5dRngXTY51NsLclyQq/KrV9d14XL%2BxR4hi%2BOnjb4/6F%2B2h8VtK1bxvpFjplzY2Vn4Ya0022sri5ns0thLoryfujeXSgzPKXWciTzCqFQDq/wBlT4tzfGX4UjxNqPxO0bxTqNrqtzY6tdaP4Iv/AA2bO4ib5rWfTNRuJ7q0nRSu5JmDEMrbVVhXpNcJ8A/gHoHwB0LWbHT/ABbrniPVfE3iCXXPE/ibxJLbte6rfyQwwebILaGGCMLBb28KpFFGipCgC5yT3dABRRRQB8bftLftd/tLfs8fGaD4baynwz8a32twQTeEYdO8LXtpL4LvNS8Q6Z4e0ibU5XvphdRTtq84LRLZyOLG6WMMvmGL3H9lX4v/ABI%2BIw8f/D74xHRJ/FXw08eN4a1nVfDWnTWdhqfmaXp2rW9xDbzTzyW%2BbXVLdHjaaXEkcmGIIxwtt/wTV8JNdfEN/EP7S/xO1m3%2BJOvHXNYt9SOheZZ6lFcQz6fc211FpaXSmwe3txaRvNJFEsKBkfnPrHwD%2BAuh/APw9q2m2Xi/XPEmreItem1rxP4o8SvbG/1e%2Bkjih86YWsEEC7IILeBEiijRY4I1C8EkA7qiiigBlz9p%2BzSfY9nnbD5Xm527scZxzjNfEHxW/a5/bT%2BGnxE1z4bW9t4D8Z694YvfDVvq3jrwR8Fdf1aPw5b6s1497YS6VZ6lPd3M0cNlY3RMU6fu7qFpYEBiaT7eu4ZLi1lt4bqSB5I2VZ4gpeMkYDLuBXI6jII9Qa%2Be/gx%2BwF4g%2BAnw2uPhp8O/26vjFFHdas%2BpzazeWXhOfUJbuV5ZLmeaZ9CP2mSd5d0kk4kfMabCgGCAes/AT4h2XxW%2BDvh/4hWHxA0bxUmp6eJH1/w/pM1haXcgJWQpazzTS2xV1ZGhkkd42VlY7lIHX1yXwL%2BC/hL9n34X6d8KfBVzf3FlYS3VxNfarcia6vru6uZbq6upnCqGlmuJ5pX2qq7pDtVVwo62gAqj4nh8SXPhvULfwbqdjZavJZSrpd5qdg91bQXBQiOSWGOWJpo1bBZFkjLAEB1J3C9Wb4x0G/8AFHha/wDDul%2BLdS0G5vLV4oNa0cQG6sXI4miFxFLEXU8gSRuhx8ysMigD4e%2BG/wC3Z%2B1r8YPinrfwS%2BFmm/D5PGem2uu30njPxX8Lta0NdU0zSLXRZUsZdEvL5NQ0%2BV7vxDsSaeZ4/KhkuEhdZ0B%2BxvgF8WtN%2BPnwJ8FfHXRtNls7Pxr4S03XrSzmfc8EV5ax3CxsQBkqJACfUV4tq/8AwTI8D61rl98Rbv8AaU%2BKafEDVkvLXWviTbXukQ6tf6ZdW1rbTaYUTTRZw2xSytGHkW0UqyQLKsocsx%2Bg/Bfg/wANfDzwdpPgDwZpMWn6PoemQafpNhDnZbW0MaxxRrnnCoqqPpQBp0UUUAcv8adR8caN8Lda1v4c%2BIbHS9WsLM3UN9qHg%2B98QIkcZDygadYzwXN5I0SuqRQyBy7LhXPyN8W/CX/goj8fvEnjTQ9T8b3HhHwJ4M1KedfEHji8%2BBniKa21i/h1%2B60hEuZVvo08MzyWtpa/uNUaSWB5VjfOwJX238TPBmu%2BPfCU3hzw38Utf8G3kksbxa/4ZisXu4NrAlVW/trmBgwBUh4m4Jxg4I8Vuv8AgnN4U1DwfcfDbVv2kPibd%2BGNc1Ca/wDHmgTXGjiLxhdz3jXVxNfSrpouIvNLLC0dnLaxCGJI1RRu3AH0TRRRQAUUUUAFFFFABRRRQAUUUUAFFFFABRRRQAUUUUAFFFFABRRRQAUUUUAFFFFABRRRQAUUUUAFFFFABRRRQAUUUUAFFFFABRRRQAUUUUAFFFFABRRRQAUUUUAFFFFABRRRQAUUUUAFFFFABRRRQAUUUUAFFFFABRRRQAUUUUAFFFFABRRRQAUUUUAFFFFABRRRQAUUUUAFFFFABRRRQAUUUUAFFFFABRRRQAUUUUAFFFFABRRRQAUUUUAFFFFABRRRQAUUUUAFFFFABRRRQAUUUUAFFFFABRRRQAUUUUAFFFFABRRRQAUUUUAFFFFABRRRQB//2Q%3D%3D\">"
      ]
     },
     "metadata": {},
     "output_type": "display_data"
    }
   ],
   "source": [
    "s.run(tf.global_variables_initializer())\n",
    "\n",
    "BATCH_SIZE = 512\n",
    "EPOCHS = 40\n",
    "\n",
    "# for logging the progress right here in Jupyter (for those who don't have TensorBoard)\n",
    "simpleTrainingCurves = matplotlib_utils.SimpleTrainingCurves(\"cross-entropy\", \"accuracy\")\n",
    "\n",
    "for epoch in range(EPOCHS):  # we finish an epoch when we've looked at all training samples\n",
    "    \n",
    "    batch_losses = []\n",
    "    for batch_start in range(0, X_train_flat.shape[0], BATCH_SIZE):  # data is already shuffled\n",
    "        _, batch_loss = s.run([step, loss], {input_X: X_train_flat[batch_start:batch_start+BATCH_SIZE], \n",
    "                                             input_y: y_train_oh[batch_start:batch_start+BATCH_SIZE]})\n",
    "        # collect batch losses, this is almost free as we need a forward pass for backprop anyway\n",
    "        batch_losses.append(batch_loss)\n",
    "\n",
    "    train_loss = np.mean(batch_losses)\n",
    "    val_loss = s.run(loss, {input_X: X_val_flat, input_y: y_val_oh})  # this part is usually small\n",
    "    train_accuracy = accuracy_score(y_train, s.run(classes, {input_X: X_train_flat}))  # this is slow and usually skipped\n",
    "    valid_accuracy = accuracy_score(y_val, s.run(classes, {input_X: X_val_flat}))  \n",
    "    simpleTrainingCurves.add(train_loss, val_loss, train_accuracy, valid_accuracy)"
   ]
  },
  {
   "cell_type": "markdown",
   "metadata": {},
   "source": [
    "# Submit a linear model"
   ]
  },
  {
   "cell_type": "code",
   "execution_count": 31,
   "metadata": {
    "collapsed": true
   },
   "outputs": [],
   "source": [
    "## GRADED PART, DO NOT CHANGE!\n",
    "# Testing shapes \n",
    "grader.set_answer(\"9XaAS\", grading_utils.get_tensors_shapes_string([W, b, input_X, input_y, logits, probas, classes]))\n",
    "# Validation loss\n",
    "grader.set_answer(\"vmogZ\", s.run(loss, {input_X: X_val_flat, input_y: y_val_oh}))\n",
    "# Validation accuracy\n",
    "grader.set_answer(\"RMv95\", accuracy_score(y_val, s.run(classes, {input_X: X_val_flat})))"
   ]
  },
  {
   "cell_type": "code",
   "execution_count": 33,
   "metadata": {},
   "outputs": [
    {
     "name": "stdout",
     "output_type": "stream",
     "text": [
      "Submitted to Coursera platform. See results on assignment page!\n"
     ]
    }
   ],
   "source": [
    "# you can make submission with answers so far to check yourself at this stage\n",
    "grader.submit(COURSERA_EMAIL, COURSERA_TOKEN)"
   ]
  },
  {
   "cell_type": "markdown",
   "metadata": {},
   "source": [
    "# MLP with hidden layers"
   ]
  },
  {
   "cell_type": "markdown",
   "metadata": {},
   "source": [
    "Previously we've coded a dense layer with matrix multiplication by hand. \n",
    "But this is not convenient, you have to create a lot of variables and your code becomes a mess. \n",
    "In TensorFlow there's an easier way to make a dense layer:\n",
    "```python\n",
    "hidden1 = tf.layers.dense(inputs, 256, activation=tf.nn.sigmoid)\n",
    "```\n",
    "\n",
    "That will create all the necessary variables automatically.\n",
    "Here you can also choose an activation function (remember that we need it for a hidden layer!).\n",
    "\n",
    "Now define the MLP with 2 hidden layers and restart training with the cell above.\n",
    "\n",
    "You're aiming for ~0.97 validation accuracy here."
   ]
  },
  {
   "cell_type": "code",
   "execution_count": 41,
   "metadata": {
    "collapsed": true
   },
   "outputs": [],
   "source": [
    "# write the code here to get a new `step` operation and then run the cell with training loop above.\n",
    "# name your variables in the same way (e.g. logits, probas, classes, etc) for safety.\n",
    "### YOUR CODE HERE ###\n",
    "logits=tf.layers.dense(input_X,256,activation=tf.nn.relu)\n",
    "probas=tf.layers.dense(logits,10,activation=tf.nn.relu)\n",
    "classes = tf.argmax(probas,axis=1)\n",
    "loss=tf.reduce_mean(tf.nn.softmax_cross_entropy_with_logits(logits=probas,labels=input_y))\n",
    "step=tf.train.AdamOptimizer().minimize(loss)\n"
   ]
  },
  {
   "cell_type": "markdown",
   "metadata": {},
   "source": [
    "# Submit the MLP with 2 hidden layers\n",
    "Run these cells after training the MLP with 2 hidden layers"
   ]
  },
  {
   "cell_type": "code",
   "execution_count": 43,
   "metadata": {
    "collapsed": true
   },
   "outputs": [],
   "source": [
    "## GRADED PART, DO NOT CHANGE!\n",
    "# Validation loss for MLP\n",
    "grader.set_answer(\"i8bgs\", s.run(loss, {input_X: X_val_flat, input_y: y_val_oh}))\n",
    "# Validation accuracy for MLP\n",
    "grader.set_answer(\"rE763\", accuracy_score(y_val, s.run(classes, {input_X: X_val_flat})))"
   ]
  },
  {
   "cell_type": "code",
   "execution_count": 44,
   "metadata": {},
   "outputs": [
    {
     "name": "stdout",
     "output_type": "stream",
     "text": [
      "Submitted to Coursera platform. See results on assignment page!\n"
     ]
    }
   ],
   "source": [
    "# you can make submission with answers so far to check yourself at this stage\n",
    "grader.submit(COURSERA_EMAIL, COURSERA_TOKEN)"
   ]
  },
  {
   "cell_type": "code",
   "execution_count": null,
   "metadata": {
    "collapsed": true
   },
   "outputs": [],
   "source": []
  }
 ],
 "metadata": {
  "kernelspec": {
   "display_name": "Python 3",
   "language": "python",
   "name": "python3"
  },
  "language_info": {
   "codemirror_mode": {
    "name": "ipython",
    "version": 3
   },
   "file_extension": ".py",
   "mimetype": "text/x-python",
   "name": "python",
   "nbconvert_exporter": "python",
   "pygments_lexer": "ipython3",
   "version": "3.6.2"
  }
 },
 "nbformat": 4,
 "nbformat_minor": 1
}
